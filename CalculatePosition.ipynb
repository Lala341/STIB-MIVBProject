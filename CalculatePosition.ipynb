{
 "cells": [
  {
   "attachments": {},
   "cell_type": "markdown",
   "metadata": {},
   "source": [
    "### Creations Graphs\n",
    "\n",
    "CREATE TABLE stop_times_complete (\n",
    "    trip_id BIGINT,\n",
    "    arrival_time TEXT,\n",
    "    departure_time TEXT,\n",
    "    real_arrival_time TEXT,\n",
    "    real_departure_time TEXT,\n",
    "    speed_calculated FLOAT,\n",
    "    stop_id TEXT,\n",
    "    stop_sequence INT,\n",
    "    pickup_type INT,\n",
    "    drop_off_type INT,\n",
    "    date_format DATE NOT NULL\n",
    "\n",
    ");"
   ]
  },
  {
   "cell_type": "code",
   "execution_count": 6,
   "metadata": {},
   "outputs": [],
   "source": [
    "import pandas as pd\n",
    "import numpy as np\n",
    "from datetime import datetime,date,timedelta\n",
    "import matplotlib.pyplot as plt\n",
    "import matplotlib.dates as mdates\n",
    "import psycopg2\n",
    "import pandas.io.sql as psql\n",
    "from sqlalchemy import create_engine\n",
    "import sshtunnel \n",
    "import pandas as pd\n",
    "import psycopg2.extras\n",
    "from datetime import datetime\n",
    "from pytz import timezone"
   ]
  },
  {
   "cell_type": "code",
   "execution_count": 6,
   "metadata": {},
   "outputs": [],
   "source": [
    "#insert results to database table assessment_methods\n",
    "def insert_into_db(df_methods):\n",
    "    try:\n",
    "        sshtunnel.SSH_TIMEOUT = 10.0\n",
    "        with sshtunnel.SSHTunnelForwarder(\n",
    "                ('3.83.88.154', 22),\n",
    "                ssh_username='ec2-user',\n",
    "                #CHANGE PATH TO rds-example.cer\n",
    "                ssh_pkey='/Users/lauraforerocamacho/Downloads/rds-example.cer',\n",
    "                remote_bind_address=('stib-mivb.cjo3cnpt9pci.us-east-1.rds.amazonaws.com', 5432)\n",
    "        ) as tunnel:\n",
    "                engine = create_engine('postgresql://{user}:{password}@{host}:{port}/{db}'.format(\n",
    "                        host='127.0.0.1',\n",
    "                        port=tunnel.local_bind_port,     \n",
    "                        db=\"stibmivbdb\",\n",
    "                        user=\"postgres\",\n",
    "                        password=\"stib-mivb-db1\" ))\n",
    "\n",
    "                df_methods.to_sql('assessment_methods', engine, if_exists='append',index=False)\n",
    "    except Exception as e:\n",
    "            print(e)"
   ]
  },
  {
   "cell_type": "code",
   "execution_count": null,
   "metadata": {},
   "outputs": [],
   "source": [
    "def get_scheduled_stoptimes():\n",
    "    \n",
    "    #SQL statement\n",
    "    sql = \"\"\"Select distinct t.route_id,\n",
    "    t.service_id,\n",
    "    t.trip_id,\n",
    "    t.trip_headsign,\n",
    "    t.direction_id,\n",
    "    st.arrival_time,\n",
    "    st.departure_time,\n",
    "    st.stop_id,\n",
    "    r.route_type,\n",
    "    c.start_date,\n",
    "    c.end_date,\n",
    "    c.monday,\n",
    "    c.tuesday,\n",
    "    c.wednesday,\n",
    "    c.thursday,\n",
    "    c.friday,\n",
    "    c.saturday,\n",
    "    c.sunday\n",
    "    from trips t\n",
    "    inner join stop_times st\n",
    "    on t.trip_id = st.trip_id \n",
    "    inner join calendar c\n",
    "    on t.service_id = c.service_id\n",
    "    inner join routes r\n",
    "    on t.trip_headsign = SUBSTRING(r.route_long_name from POSITION('-' IN r.route_long_name)+2\n",
    "                        for char_length(r.route_long_name)-POSITION('-' IN r.route_long_name)+1)\n",
    "    and r.route_id = t.route_id\n",
    "    where c.end_date >= '2021-09-01' and\n",
    "    st.date_format='2022-09-03' \n",
    "    order by st.arrival_time, st.trip_id, st.stop_sequence\"\"\"\n",
    "    \n",
    "    #database connection\n",
    "\n",
    "    try:\n",
    "        sshtunnel.SSH_TIMEOUT = 10.0\n",
    "        with sshtunnel.SSHTunnelForwarder(\n",
    "                ('3.83.88.154', 22),\n",
    "                ssh_username='ec2-user',\n",
    "                #CHANGE PATH TO rds-example.cer\n",
    "                ssh_pkey='/Users/lauraforerocamacho/Downloads/rds-example.cer',\n",
    "                remote_bind_address=('stib-mivb.cjo3cnpt9pci.us-east-1.rds.amazonaws.com', 5432)\n",
    "        ) as tunnel:\n",
    "                conn = psycopg2.connect(\n",
    "                        host='127.0.0.1',\n",
    "                        port=tunnel.local_bind_port,     \n",
    "                        database=\"stibmivbdb\",\n",
    "                        user=\"postgres\",\n",
    "                        password=\"stib-mivb-db1\")\n",
    "\n",
    "                cur = conn.cursor()\n",
    "                #perform sql and write result to dataframe\n",
    "                cur.execute(sql)\n",
    "                field_names = [i[0] for i in cur.description]\n",
    "                query_results = pd.DataFrame(cur.fetchall(),columns=field_names)\n",
    "                #close connection\n",
    "                cur.close()\n",
    "                \n",
    "                return query_results\n",
    "    except Exception as e:\n",
    "            print(e)"
   ]
  },
  {
   "cell_type": "code",
   "execution_count": 6,
   "metadata": {},
   "outputs": [],
   "source": [
    "def get_data_from_vehiclepositions():\n",
    "    \n",
    "    #SQL statement\n",
    "    sql = \"\"\"Select time, lineid, directionid, pointid, min(distancefrompoint)\n",
    "    from vehiclepositioncomplete\n",
    "    group by lineid, directionid, pointid\n",
    "    order by time, lineid, directionid, pointid\"\"\"\n",
    "    \n",
    "    #database connection\n",
    "\n",
    "    try:\n",
    "        sshtunnel.SSH_TIMEOUT = 10.0\n",
    "        with sshtunnel.SSHTunnelForwarder(\n",
    "                ('3.83.88.154', 22),\n",
    "                ssh_username='ec2-user',\n",
    "                #CHANGE PATH TO rds-example.cer\n",
    "                ssh_pkey='/Users/lauraforerocamacho/Downloads/rds-example.cer',\n",
    "                remote_bind_address=('stib-mivb.cjo3cnpt9pci.us-east-1.rds.amazonaws.com', 5432)\n",
    "        ) as tunnel:\n",
    "                conn = psycopg2.connect(\n",
    "                        host='127.0.0.1',\n",
    "                        port=tunnel.local_bind_port,     \n",
    "                        database=\"stibmivbdb\",\n",
    "                        user=\"postgres\",\n",
    "                        password=\"stib-mivb-db1\")\n",
    "\n",
    "                cur = conn.cursor()\n",
    "                #perform sql and write result to dataframe\n",
    "                cur.execute(sql)\n",
    "                field_names = [i[0] for i in cur.description]\n",
    "                query_results = pd.DataFrame(cur.fetchall(),columns=field_names)\n",
    "                #close connection\n",
    "                cur.close()\n",
    "                \n",
    "                return query_results\n",
    "    except Exception as e:\n",
    "            print(e)"
   ]
  },
  {
   "cell_type": "code",
   "execution_count": null,
   "metadata": {},
   "outputs": [],
   "source": [
    "df_methods=pd.read_csv(\"./realability/speed_stops.csv\")"
   ]
  },
  {
   "cell_type": "code",
   "execution_count": null,
   "metadata": {},
   "outputs": [],
   "source": [
    "df_vehiclepostions = get_data_from_vehiclepositions()"
   ]
  },
  {
   "cell_type": "code",
   "execution_count": 80,
   "metadata": {},
   "outputs": [],
   "source": [
    "df_vehiclepostions[\"time\"]= pd.to_datetime(df_vehiclepostions[\"time\"], unit='ms')\n",
    "df_vehiclepostions[\"time\"]=[i.tz_localize(\"utc\") for i in df_vehiclepostions[\"time\"]]\n",
    "df_vehiclepostions[\"time\"]=[i.tz_convert(\"Europe/Brussels\") for i in df_vehiclepostions[\"time\"]]\n"
   ]
  },
  {
   "cell_type": "code",
   "execution_count": null,
   "metadata": {},
   "outputs": [],
   "source": []
  }
 ],
 "metadata": {
  "kernelspec": {
   "display_name": "Python 3.8.9 64-bit",
   "language": "python",
   "name": "python3"
  },
  "language_info": {
   "codemirror_mode": {
    "name": "ipython",
    "version": 3
   },
   "file_extension": ".py",
   "mimetype": "text/x-python",
   "name": "python",
   "nbconvert_exporter": "python",
   "pygments_lexer": "ipython3",
   "version": "3.8.9 (default, Apr 13 2022, 08:48:07) \n[Clang 13.1.6 (clang-1316.0.21.2.5)]"
  },
  "orig_nbformat": 4,
  "vscode": {
   "interpreter": {
    "hash": "31f2aee4e71d21fbe5cf8b01ff0e069b9275f58929596ceb00d14d90e3e16cd6"
   }
  }
 },
 "nbformat": 4,
 "nbformat_minor": 2
}
