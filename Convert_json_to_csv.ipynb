{
 "cells": [
  {
   "cell_type": "code",
   "execution_count": 1,
   "metadata": {},
   "outputs": [],
   "source": [
    "import pandas as pd\n",
    "import json\n",
    "import csv"
   ]
  },
  {
   "cell_type": "markdown",
   "metadata": {},
   "source": [
    "# Convert json to csv\n"
   ]
  },
  {
   "cell_type": "code",
   "execution_count": 3,
   "metadata": {},
   "outputs": [],
   "source": [
    "\n",
    "#\"01\", \"02\", \"03\", \"04\", \"05\", \"06\", \"07\",\"08\", \"09\", \"10\", \"11\", \"12\", \"13\"\n",
    "for ind in [\"01\", \"02\", \"03\", \"04\", \"05\", \"06\", \"07\",\"08\", \"09\", \"10\", \"11\", \"12\", \"13\"]:\n",
    "\n",
    "    #csv file for the result\n",
    "    c = open('./data_generated/file_convert'+ind+'.csv', 'w',newline='')\n",
    "\n",
    "    # create the csv writer\n",
    "    writer = csv.writer(c)\n",
    "\n",
    "    # write csv header\n",
    "    csv_line = ['time','lineID','directionID','distancefromPoint','pointID']\n",
    "    writer.writerow(csv_line)\n",
    "\n",
    "    #Open json file\n",
    "    with open('./data/vehiclePosition'+ind+'.json','r') as f:\n",
    "        json_file = json.loads(f.read())\n",
    "        \n",
    "        #loop through timestamps\n",
    "        i=0\n",
    "        for data in json_file['data']:\n",
    "            time = json_file['data'][i]['time']\n",
    "            #print(time)\n",
    "            \n",
    "            #loop through all responses of a timestamp\n",
    "            m=0\n",
    "            for response in json_file['data'][i]['Responses']:\n",
    "                \n",
    "                #loop through all lines of a response\n",
    "                j = 0\n",
    "                try:\n",
    "\n",
    "                    for lines in json_file['data'][i]['Responses'][m]['lines']:\n",
    "                        lineId = json_file['data'][i]['Responses'][m]['lines'][j]['lineId']\n",
    "                        \n",
    "                        #loop throgh all vehicle positions of a line\n",
    "                        k=0 \n",
    "                        for vehicelePosition in json_file['data'][i]['Responses'][m]['lines'][j]['vehiclePositions']:\n",
    "                            try:\n",
    "                                tmp_pos=json_file['data'][i]['Responses'][m]['lines'][j]['vehiclePositions'][k]\n",
    "                                directionId = tmp_pos['directionId'] if tmp_pos['directionId'] else None\n",
    "                                distanceFromPoint = tmp_pos['distanceFromPoint'] if tmp_pos['distanceFromPoint'] else None\n",
    "                                pointId = tmp_pos['pointId'] if tmp_pos['pointId'] else None\n",
    "                                csv_line = [time,lineId,directionId,distanceFromPoint,pointId]\n",
    "                                writer.writerow(csv_line)\n",
    "                            \n",
    "                            except Exception as e:\n",
    "                                #write timestamp with null values to csv\n",
    "                                #print(e)\n",
    "                                csv_line = [time,lineId,None,None,None]\n",
    "                                writer.writerow(csv_line)\n",
    "                            \n",
    "                            #write to csv file\n",
    "                            \n",
    "\n",
    "                            k = k+1\n",
    "\n",
    "                        j=j+1\n",
    "                except Exception as e:\n",
    "                    #write timestamp with null values to csv\n",
    "                    #print(e)\n",
    "                    csv_line = [time,None,None,None,None]\n",
    "                    writer.writerow(csv_line) \n",
    "                m=m+1\n",
    "            \n",
    "            i = i+1\n",
    "\n",
    "    c.close()"
   ]
  },
  {
   "cell_type": "markdown",
   "metadata": {},
   "source": [
    "### Connection database \n",
    "\n",
    "psql --host=stib-mivb.cjo3cnpt9pci.us-east-1.rds.amazonaws.com --port=5432 --username=postgres --password --dbname=stibmivbdb\n",
    "password:stib-mivb-db1\n"
   ]
  },
  {
   "cell_type": "markdown",
   "metadata": {},
   "source": [
    "### Creation tables\n",
    "\n",
    "CREATE TABLE vehiclePosition (\n",
    "\tvehicle_position_id serial PRIMARY KEY,\n",
    "    time bigint,\n",
    "    lineID INT,\n",
    "    directionID INT,\n",
    "    distancefromPoint INT,\n",
    "    pointID INT\n",
    ");\n"
   ]
  },
  {
   "cell_type": "markdown",
   "metadata": {},
   "source": [
    "### Commands to upload data\n",
    "\n",
    "mkdir /tmp/data_generated/\n",
    "cp /Users/lauraforerocamacho/Downloads/Maestria/DataMining/ProjectDataMining/data_generated/* /tmp/data_generated/\n",
    "\n",
    "\\copy vehiclePosition from '/tmp/data_generated/file_convert01.csv' WITH DELIMITER ',' CSV;"
   ]
  },
  {
   "cell_type": "markdown",
   "metadata": {},
   "source": [
    "### Manage datatype\n",
    "\n",
    "SELECT to_timestamp(CAST(epoch_ms as bigint)/1000)\n",
    "\n",
    "Link: https://stackoverflow.com/questions/16609722/postgresql-how-to-convert-from-unix-epoch-to-date"
   ]
  }
 ],
 "metadata": {
  "kernelspec": {
   "display_name": "Python 3.8.9 64-bit",
   "language": "python",
   "name": "python3"
  },
  "language_info": {
   "codemirror_mode": {
    "name": "ipython",
    "version": 3
   },
   "file_extension": ".py",
   "mimetype": "text/x-python",
   "name": "python",
   "nbconvert_exporter": "python",
   "pygments_lexer": "ipython3",
   "version": "3.8.9"
  },
  "vscode": {
   "interpreter": {
    "hash": "31f2aee4e71d21fbe5cf8b01ff0e069b9275f58929596ceb00d14d90e3e16cd6"
   }
  }
 },
 "nbformat": 4,
 "nbformat_minor": 4
}
