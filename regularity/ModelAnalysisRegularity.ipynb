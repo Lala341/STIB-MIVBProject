{
 "cells": [
  {
   "attachments": {},
   "cell_type": "markdown",
   "metadata": {},
   "source": [
    "### Feature selection table results per timegroup"
   ]
  },
  {
   "cell_type": "code",
   "execution_count": 1,
   "metadata": {},
   "outputs": [],
   "source": [
    "import pandas as pd\n",
    "import numpy as np\n",
    "import matplotlib.pyplot as plt\n",
    "import seaborn as sns\n",
    "from datetime import datetime,date,timedelta\n",
    "import matplotlib.pyplot as plt\n",
    "import matplotlib.dates as mdates\n",
    "import psycopg2\n",
    "import pandas.io.sql as psql\n",
    "from sqlalchemy import create_engine\n",
    "import sshtunnel \n",
    "import psycopg2.extras\n",
    "import csv\n",
    "import re"
   ]
  },
  {
   "cell_type": "code",
   "execution_count": 2,
   "metadata": {},
   "outputs": [],
   "source": [
    "def get_data_regularity():\n",
    "    \n",
    "    #SQL statement regularity_trip_timegroups_results\n",
    "    sql = \"\"\"select *\n",
    "from regularity_trip_timegroups_results\n",
    "order by route_short_name, stop_id, direction_id, from_date_time\"\"\"\n",
    "    \n",
    "    #database connection\n",
    "\n",
    "    try:\n",
    "        sshtunnel.SSH_TIMEOUT = 10.0\n",
    "        with sshtunnel.SSHTunnelForwarder(\n",
    "                ('3.83.88.154', 22),\n",
    "                ssh_username='ec2-user',\n",
    "                #CHANGE PATH TO rds-example.cer\n",
    "                ssh_pkey='/Users/lauraforerocamacho/Downloads/rds-example.cer',\n",
    "                remote_bind_address=('stib-mivb.cjo3cnpt9pci.us-east-1.rds.amazonaws.com', 5432)\n",
    "        ) as tunnel:\n",
    "                conn = psycopg2.connect(\n",
    "                        host='127.0.0.1',\n",
    "                        port=tunnel.local_bind_port,     \n",
    "                        database=\"stibmivbdb\",\n",
    "                        user=\"postgres\",\n",
    "                        password=\"stib-mivb-db1\")\n",
    "\n",
    "                cur = conn.cursor()\n",
    "                #perform sql and write result to dataframe\n",
    "                cur.execute(sql)\n",
    "                field_names = [i[0] for i in cur.description]\n",
    "                query_results = pd.DataFrame(cur.fetchall(),columns=field_names)\n",
    "                #close connection\n",
    "                cur.close()\n",
    "                \n",
    "                return query_results\n",
    "    except Exception as e:\n",
    "            print(e)"
   ]
  },
  {
   "cell_type": "code",
   "execution_count": 74,
   "metadata": {},
   "outputs": [],
   "source": [
    "def get_defined_intervals():\n",
    "    \n",
    "    #SQL statement regularity_trip_timegroups_results\n",
    "    sql = \"\"\"select *\n",
    "from defined_intervals\n",
    "order by from_time\"\"\"\n",
    "    \n",
    "    #database connection\n",
    "\n",
    "    try:\n",
    "        sshtunnel.SSH_TIMEOUT = 10.0\n",
    "        with sshtunnel.SSHTunnelForwarder(\n",
    "                ('3.83.88.154', 22),\n",
    "                ssh_username='ec2-user',\n",
    "                #CHANGE PATH TO rds-example.cer\n",
    "                ssh_pkey='/Users/lauraforerocamacho/Downloads/rds-example.cer',\n",
    "                remote_bind_address=('stib-mivb.cjo3cnpt9pci.us-east-1.rds.amazonaws.com', 5432)\n",
    "        ) as tunnel:\n",
    "                conn = psycopg2.connect(\n",
    "                        host='127.0.0.1',\n",
    "                        port=tunnel.local_bind_port,     \n",
    "                        database=\"stibmivbdb\",\n",
    "                        user=\"postgres\",\n",
    "                        password=\"stib-mivb-db1\")\n",
    "\n",
    "                cur = conn.cursor()\n",
    "                #perform sql and write result to dataframe\n",
    "                cur.execute(sql)\n",
    "                field_names = [i[0] for i in cur.description]\n",
    "                query_results = pd.DataFrame(cur.fetchall(),columns=field_names)\n",
    "                #close connection\n",
    "                cur.close()\n",
    "                \n",
    "                return query_results\n",
    "    except Exception as e:\n",
    "            print(e)"
   ]
  },
  {
   "cell_type": "code",
   "execution_count": 142,
   "metadata": {},
   "outputs": [],
   "source": [
    "data=get_data_regularity()\n",
    "data=data.dropna()"
   ]
  },
  {
   "cell_type": "code",
   "execution_count": 184,
   "metadata": {},
   "outputs": [],
   "source": [
    "intervals=get_defined_intervals()"
   ]
  },
  {
   "cell_type": "code",
   "execution_count": 185,
   "metadata": {},
   "outputs": [
    {
     "data": {
      "text/html": [
       "<div>\n",
       "<style scoped>\n",
       "    .dataframe tbody tr th:only-of-type {\n",
       "        vertical-align: middle;\n",
       "    }\n",
       "\n",
       "    .dataframe tbody tr th {\n",
       "        vertical-align: top;\n",
       "    }\n",
       "\n",
       "    .dataframe thead th {\n",
       "        text-align: right;\n",
       "    }\n",
       "</style>\n",
       "<table border=\"1\" class=\"dataframe\">\n",
       "  <thead>\n",
       "    <tr style=\"text-align: right;\">\n",
       "      <th></th>\n",
       "      <th>from_time</th>\n",
       "      <th>to_time</th>\n",
       "    </tr>\n",
       "  </thead>\n",
       "  <tbody>\n",
       "    <tr>\n",
       "      <th>0</th>\n",
       "      <td>2021-09-01 00:00:00</td>\n",
       "      <td>2021-09-01 00:30:00</td>\n",
       "    </tr>\n",
       "    <tr>\n",
       "      <th>1</th>\n",
       "      <td>2021-09-01 00:30:00</td>\n",
       "      <td>2021-09-01 01:00:00</td>\n",
       "    </tr>\n",
       "    <tr>\n",
       "      <th>2</th>\n",
       "      <td>2021-09-01 01:00:00</td>\n",
       "      <td>2021-09-01 01:30:00</td>\n",
       "    </tr>\n",
       "    <tr>\n",
       "      <th>3</th>\n",
       "      <td>2021-09-01 01:30:00</td>\n",
       "      <td>2021-09-01 02:00:00</td>\n",
       "    </tr>\n",
       "    <tr>\n",
       "      <th>4</th>\n",
       "      <td>2021-09-01 02:00:00</td>\n",
       "      <td>2021-09-01 02:30:00</td>\n",
       "    </tr>\n",
       "  </tbody>\n",
       "</table>\n",
       "</div>"
      ],
      "text/plain": [
       "            from_time             to_time\n",
       "0 2021-09-01 00:00:00 2021-09-01 00:30:00\n",
       "1 2021-09-01 00:30:00 2021-09-01 01:00:00\n",
       "2 2021-09-01 01:00:00 2021-09-01 01:30:00\n",
       "3 2021-09-01 01:30:00 2021-09-01 02:00:00\n",
       "4 2021-09-01 02:00:00 2021-09-01 02:30:00"
      ]
     },
     "execution_count": 185,
     "metadata": {},
     "output_type": "execute_result"
    }
   ],
   "source": [
    "intervals.head()"
   ]
  },
  {
   "cell_type": "code",
   "execution_count": 186,
   "metadata": {},
   "outputs": [],
   "source": [
    "intervals[\"data\"]=None"
   ]
  },
  {
   "cell_type": "code",
   "execution_count": 167,
   "metadata": {},
   "outputs": [
    {
     "data": {
      "text/html": [
       "<div>\n",
       "<style scoped>\n",
       "    .dataframe tbody tr th:only-of-type {\n",
       "        vertical-align: middle;\n",
       "    }\n",
       "\n",
       "    .dataframe tbody tr th {\n",
       "        vertical-align: top;\n",
       "    }\n",
       "\n",
       "    .dataframe thead th {\n",
       "        text-align: right;\n",
       "    }\n",
       "</style>\n",
       "<table border=\"1\" class=\"dataframe\">\n",
       "  <thead>\n",
       "    <tr style=\"text-align: right;\">\n",
       "      <th></th>\n",
       "      <th>route_id</th>\n",
       "      <th>route_short_name</th>\n",
       "      <th>stop_id</th>\n",
       "      <th>direction_id</th>\n",
       "      <th>from_date_time</th>\n",
       "      <th>to_date_time</th>\n",
       "      <th>from_time</th>\n",
       "      <th>to_time</th>\n",
       "      <th>from_date</th>\n",
       "      <th>to_date</th>\n",
       "      <th>...</th>\n",
       "      <th>thursday</th>\n",
       "      <th>friday</th>\n",
       "      <th>saturday</th>\n",
       "      <th>sunday</th>\n",
       "      <th>route_type</th>\n",
       "      <th>waiting_time_real</th>\n",
       "      <th>waiting_time_scheduled</th>\n",
       "      <th>ewt</th>\n",
       "      <th>ewt_minutes</th>\n",
       "      <th>ewt_category</th>\n",
       "    </tr>\n",
       "  </thead>\n",
       "  <tbody>\n",
       "    <tr>\n",
       "      <th>5</th>\n",
       "      <td>2</td>\n",
       "      <td>1</td>\n",
       "      <td>8011</td>\n",
       "      <td>1</td>\n",
       "      <td>2021-09-01 05:48:57</td>\n",
       "      <td>2021-09-17 20:24:07</td>\n",
       "      <td>05:48:57</td>\n",
       "      <td>20:24:07</td>\n",
       "      <td>2021-09-01</td>\n",
       "      <td>2021-09-17</td>\n",
       "      <td>...</td>\n",
       "      <td>1</td>\n",
       "      <td>1</td>\n",
       "      <td>0</td>\n",
       "      <td>0</td>\n",
       "      <td>1</td>\n",
       "      <td>232.871609</td>\n",
       "      <td>39.160125</td>\n",
       "      <td>193</td>\n",
       "      <td>3.228525</td>\n",
       "      <td>0-4MIN</td>\n",
       "    </tr>\n",
       "    <tr>\n",
       "      <th>6</th>\n",
       "      <td>2</td>\n",
       "      <td>1</td>\n",
       "      <td>8011</td>\n",
       "      <td>1</td>\n",
       "      <td>2021-09-01 20:34:07</td>\n",
       "      <td>2021-09-17 23:48:53</td>\n",
       "      <td>20:34:07</td>\n",
       "      <td>23:48:53</td>\n",
       "      <td>2021-09-01</td>\n",
       "      <td>2021-09-17</td>\n",
       "      <td>...</td>\n",
       "      <td>1</td>\n",
       "      <td>1</td>\n",
       "      <td>0</td>\n",
       "      <td>0</td>\n",
       "      <td>1</td>\n",
       "      <td>410.917755</td>\n",
       "      <td>145.023148</td>\n",
       "      <td>265</td>\n",
       "      <td>4.431577</td>\n",
       "      <td>4-8MIN</td>\n",
       "    </tr>\n",
       "    <tr>\n",
       "      <th>7</th>\n",
       "      <td>2</td>\n",
       "      <td>1</td>\n",
       "      <td>8011</td>\n",
       "      <td>1</td>\n",
       "      <td>2021-09-04 06:44:23</td>\n",
       "      <td>2021-09-18 23:48:53</td>\n",
       "      <td>06:44:23</td>\n",
       "      <td>23:48:53</td>\n",
       "      <td>2021-09-04</td>\n",
       "      <td>2021-09-18</td>\n",
       "      <td>...</td>\n",
       "      <td>0</td>\n",
       "      <td>0</td>\n",
       "      <td>1</td>\n",
       "      <td>0</td>\n",
       "      <td>1</td>\n",
       "      <td>259.528527</td>\n",
       "      <td>57.318244</td>\n",
       "      <td>202</td>\n",
       "      <td>3.370171</td>\n",
       "      <td>0-4MIN</td>\n",
       "    </tr>\n",
       "    <tr>\n",
       "      <th>8</th>\n",
       "      <td>2</td>\n",
       "      <td>1</td>\n",
       "      <td>8011</td>\n",
       "      <td>1</td>\n",
       "      <td>2021-09-12 08:42:04</td>\n",
       "      <td>2021-09-12 23:48:53</td>\n",
       "      <td>08:42:04</td>\n",
       "      <td>23:48:53</td>\n",
       "      <td>2021-09-12</td>\n",
       "      <td>2021-09-12</td>\n",
       "      <td>...</td>\n",
       "      <td>0</td>\n",
       "      <td>0</td>\n",
       "      <td>1</td>\n",
       "      <td>0</td>\n",
       "      <td>1</td>\n",
       "      <td>286.690589</td>\n",
       "      <td>54.203186</td>\n",
       "      <td>232</td>\n",
       "      <td>3.874790</td>\n",
       "      <td>0-4MIN</td>\n",
       "    </tr>\n",
       "    <tr>\n",
       "      <th>9</th>\n",
       "      <td>2</td>\n",
       "      <td>1</td>\n",
       "      <td>8011</td>\n",
       "      <td>1</td>\n",
       "      <td>2021-09-19 06:44:23</td>\n",
       "      <td>2021-09-19 23:48:53</td>\n",
       "      <td>06:44:23</td>\n",
       "      <td>23:48:53</td>\n",
       "      <td>2021-09-19</td>\n",
       "      <td>2021-09-19</td>\n",
       "      <td>...</td>\n",
       "      <td>0</td>\n",
       "      <td>0</td>\n",
       "      <td>1</td>\n",
       "      <td>0</td>\n",
       "      <td>1</td>\n",
       "      <td>308.359592</td>\n",
       "      <td>43.434227</td>\n",
       "      <td>264</td>\n",
       "      <td>4.415423</td>\n",
       "      <td>4-8MIN</td>\n",
       "    </tr>\n",
       "  </tbody>\n",
       "</table>\n",
       "<p>5 rows × 23 columns</p>\n",
       "</div>"
      ],
      "text/plain": [
       "   route_id  route_short_name  stop_id  direction_id      from_date_time  \\\n",
       "5         2                 1     8011             1 2021-09-01 05:48:57   \n",
       "6         2                 1     8011             1 2021-09-01 20:34:07   \n",
       "7         2                 1     8011             1 2021-09-04 06:44:23   \n",
       "8         2                 1     8011             1 2021-09-12 08:42:04   \n",
       "9         2                 1     8011             1 2021-09-19 06:44:23   \n",
       "\n",
       "         to_date_time from_time   to_time   from_date     to_date  ...  \\\n",
       "5 2021-09-17 20:24:07  05:48:57  20:24:07  2021-09-01  2021-09-17  ...   \n",
       "6 2021-09-17 23:48:53  20:34:07  23:48:53  2021-09-01  2021-09-17  ...   \n",
       "7 2021-09-18 23:48:53  06:44:23  23:48:53  2021-09-04  2021-09-18  ...   \n",
       "8 2021-09-12 23:48:53  08:42:04  23:48:53  2021-09-12  2021-09-12  ...   \n",
       "9 2021-09-19 23:48:53  06:44:23  23:48:53  2021-09-19  2021-09-19  ...   \n",
       "\n",
       "   thursday  friday  saturday  sunday  route_type  waiting_time_real  \\\n",
       "5         1       1         0       0           1         232.871609   \n",
       "6         1       1         0       0           1         410.917755   \n",
       "7         0       0         1       0           1         259.528527   \n",
       "8         0       0         1       0           1         286.690589   \n",
       "9         0       0         1       0           1         308.359592   \n",
       "\n",
       "   waiting_time_scheduled  ewt  ewt_minutes  ewt_category  \n",
       "5               39.160125  193     3.228525        0-4MIN  \n",
       "6              145.023148  265     4.431577        4-8MIN  \n",
       "7               57.318244  202     3.370171        0-4MIN  \n",
       "8               54.203186  232     3.874790        0-4MIN  \n",
       "9               43.434227  264     4.415423        4-8MIN  \n",
       "\n",
       "[5 rows x 23 columns]"
      ]
     },
     "execution_count": 167,
     "metadata": {},
     "output_type": "execute_result"
    }
   ],
   "source": [
    "data.head()"
   ]
  },
  {
   "cell_type": "code",
   "execution_count": 187,
   "metadata": {},
   "outputs": [
    {
     "data": {
      "text/html": [
       "<div>\n",
       "<style scoped>\n",
       "    .dataframe tbody tr th:only-of-type {\n",
       "        vertical-align: middle;\n",
       "    }\n",
       "\n",
       "    .dataframe tbody tr th {\n",
       "        vertical-align: top;\n",
       "    }\n",
       "\n",
       "    .dataframe thead th {\n",
       "        text-align: right;\n",
       "    }\n",
       "</style>\n",
       "<table border=\"1\" class=\"dataframe\">\n",
       "  <thead>\n",
       "    <tr style=\"text-align: right;\">\n",
       "      <th></th>\n",
       "      <th>from_time</th>\n",
       "      <th>to_time</th>\n",
       "      <th>data</th>\n",
       "    </tr>\n",
       "  </thead>\n",
       "  <tbody>\n",
       "    <tr>\n",
       "      <th>0</th>\n",
       "      <td>2021-09-01 00:00:00</td>\n",
       "      <td>2021-09-01 00:30:00</td>\n",
       "      <td>None</td>\n",
       "    </tr>\n",
       "    <tr>\n",
       "      <th>1</th>\n",
       "      <td>2021-09-01 00:30:00</td>\n",
       "      <td>2021-09-01 01:00:00</td>\n",
       "      <td>None</td>\n",
       "    </tr>\n",
       "    <tr>\n",
       "      <th>2</th>\n",
       "      <td>2021-09-01 01:00:00</td>\n",
       "      <td>2021-09-01 01:30:00</td>\n",
       "      <td>None</td>\n",
       "    </tr>\n",
       "    <tr>\n",
       "      <th>3</th>\n",
       "      <td>2021-09-01 01:30:00</td>\n",
       "      <td>2021-09-01 02:00:00</td>\n",
       "      <td>None</td>\n",
       "    </tr>\n",
       "    <tr>\n",
       "      <th>4</th>\n",
       "      <td>2021-09-01 02:00:00</td>\n",
       "      <td>2021-09-01 02:30:00</td>\n",
       "      <td>None</td>\n",
       "    </tr>\n",
       "  </tbody>\n",
       "</table>\n",
       "</div>"
      ],
      "text/plain": [
       "            from_time             to_time  data\n",
       "0 2021-09-01 00:00:00 2021-09-01 00:30:00  None\n",
       "1 2021-09-01 00:30:00 2021-09-01 01:00:00  None\n",
       "2 2021-09-01 01:00:00 2021-09-01 01:30:00  None\n",
       "3 2021-09-01 01:30:00 2021-09-01 02:00:00  None\n",
       "4 2021-09-01 02:00:00 2021-09-01 02:30:00  None"
      ]
     },
     "execution_count": 187,
     "metadata": {},
     "output_type": "execute_result"
    }
   ],
   "source": [
    "intervals.head()"
   ]
  },
  {
   "cell_type": "code",
   "execution_count": 169,
   "metadata": {},
   "outputs": [],
   "source": [
    "data[\"ewt\"]= data[\"ewt\"].astype(int)\n"
   ]
  },
  {
   "cell_type": "code",
   "execution_count": 170,
   "metadata": {},
   "outputs": [],
   "source": [
    "data[\"from_date_time\"]= pd.to_datetime(data[\"from_date_time\"])\n",
    "data[\"to_date_time\"]= pd.to_datetime(data[\"to_date_time\"])"
   ]
  },
  {
   "cell_type": "code",
   "execution_count": 219,
   "metadata": {},
   "outputs": [],
   "source": [
    "intervals_data=[]\n",
    "for i in range(0, len(intervals)):\n",
    "    c_interval=intervals.iloc[i].to_dict()\n",
    "    temp=[]\n",
    "    find_elements_range=data[(data[\"from_date_time\"].dt.time<=c_interval[\"from_time\"].time())&(c_interval[\"to_time\"].time()<=data[\"to_date_time\"].dt.time)&(data[\"from_date_time\"].dt.date<=c_interval[\"from_time\"].date())&(c_interval[\"to_time\"].date()<=data[\"to_date_time\"].dt.date)&(data[\"ewt\"]>(6*60))]\n",
    "    \n",
    "    if(len(find_elements_range)>0):\n",
    "        temp=find_elements_range[\"stop_id\"].unique()\n",
    "    #intervals_data.append(' '.join(str(item) for item in temp))\n",
    "    if(len(temp)==0):\n",
    "        temp=None\n",
    "    intervals_data.append(temp)\n",
    "intervals[\"data\"]=intervals_data"
   ]
  },
  {
   "cell_type": "code",
   "execution_count": 220,
   "metadata": {},
   "outputs": [],
   "source": [
    "intervals=intervals.dropna()"
   ]
  },
  {
   "cell_type": "code",
   "execution_count": 221,
   "metadata": {},
   "outputs": [],
   "source": [
    "intervals[\"from_date\"]=intervals[\"from_time\"].dt.date\n",
    "intervals_data_final=intervals.groupby(\"from_date\")[\"data\"].apply(list).reset_index(name='pattern')"
   ]
  },
  {
   "cell_type": "code",
   "execution_count": 222,
   "metadata": {},
   "outputs": [
    {
     "data": {
      "text/html": [
       "<div>\n",
       "<style scoped>\n",
       "    .dataframe tbody tr th:only-of-type {\n",
       "        vertical-align: middle;\n",
       "    }\n",
       "\n",
       "    .dataframe tbody tr th {\n",
       "        vertical-align: top;\n",
       "    }\n",
       "\n",
       "    .dataframe thead th {\n",
       "        text-align: right;\n",
       "    }\n",
       "</style>\n",
       "<table border=\"1\" class=\"dataframe\">\n",
       "  <thead>\n",
       "    <tr style=\"text-align: right;\">\n",
       "      <th></th>\n",
       "      <th>from_date</th>\n",
       "      <th>pattern</th>\n",
       "    </tr>\n",
       "  </thead>\n",
       "  <tbody>\n",
       "    <tr>\n",
       "      <th>0</th>\n",
       "      <td>2021-09-01</td>\n",
       "      <td>[[1203, 1487, 2257, 2259, 2260, 2261, 2319, 25...</td>\n",
       "    </tr>\n",
       "    <tr>\n",
       "      <th>1</th>\n",
       "      <td>2021-09-02</td>\n",
       "      <td>[[1203, 1487, 2257, 2259, 2260, 2261, 2319, 25...</td>\n",
       "    </tr>\n",
       "    <tr>\n",
       "      <th>2</th>\n",
       "      <td>2021-09-03</td>\n",
       "      <td>[[1203, 1487, 2257, 2259, 2260, 2261, 2319, 25...</td>\n",
       "    </tr>\n",
       "    <tr>\n",
       "      <th>3</th>\n",
       "      <td>2021-09-04</td>\n",
       "      <td>[[5230], [1203, 1487, 2257, 2259, 2260, 2261, ...</td>\n",
       "    </tr>\n",
       "    <tr>\n",
       "      <th>4</th>\n",
       "      <td>2021-09-05</td>\n",
       "      <td>[[5230], [1203, 1487, 2257, 2259, 2260, 2261, ...</td>\n",
       "    </tr>\n",
       "    <tr>\n",
       "      <th>5</th>\n",
       "      <td>2021-09-06</td>\n",
       "      <td>[[5230], [1203, 1487, 2257, 2259, 2260, 2261, ...</td>\n",
       "    </tr>\n",
       "    <tr>\n",
       "      <th>6</th>\n",
       "      <td>2021-09-07</td>\n",
       "      <td>[[5230], [1203, 1487, 2257, 2259, 2260, 2261, ...</td>\n",
       "    </tr>\n",
       "    <tr>\n",
       "      <th>7</th>\n",
       "      <td>2021-09-08</td>\n",
       "      <td>[[5230], [1203, 1487, 2257, 2259, 2260, 2261, ...</td>\n",
       "    </tr>\n",
       "    <tr>\n",
       "      <th>8</th>\n",
       "      <td>2021-09-09</td>\n",
       "      <td>[[5230], [1203, 1487, 2257, 2259, 2260, 2261, ...</td>\n",
       "    </tr>\n",
       "    <tr>\n",
       "      <th>9</th>\n",
       "      <td>2021-09-10</td>\n",
       "      <td>[[5230], [1203, 1487, 2257, 2259, 2260, 2261, ...</td>\n",
       "    </tr>\n",
       "    <tr>\n",
       "      <th>10</th>\n",
       "      <td>2021-09-11</td>\n",
       "      <td>[[5230], [1203, 1487, 2257, 2259, 2260, 2261, ...</td>\n",
       "    </tr>\n",
       "    <tr>\n",
       "      <th>11</th>\n",
       "      <td>2021-09-12</td>\n",
       "      <td>[[5230], [1203, 1487, 2257, 2259, 2260, 2261, ...</td>\n",
       "    </tr>\n",
       "    <tr>\n",
       "      <th>12</th>\n",
       "      <td>2021-09-13</td>\n",
       "      <td>[[5230], [1203, 1487, 2257, 2259, 2260, 2261, ...</td>\n",
       "    </tr>\n",
       "    <tr>\n",
       "      <th>13</th>\n",
       "      <td>2021-09-14</td>\n",
       "      <td>[[5230], [1203, 1366, 1487, 2141, 2232, 2257, ...</td>\n",
       "    </tr>\n",
       "    <tr>\n",
       "      <th>14</th>\n",
       "      <td>2021-09-15</td>\n",
       "      <td>[[5230], [1203, 1487, 2257, 2259, 2260, 2261, ...</td>\n",
       "    </tr>\n",
       "    <tr>\n",
       "      <th>15</th>\n",
       "      <td>2021-09-16</td>\n",
       "      <td>[[5230], [1487, 2257, 2259, 2260, 2261, 2319, ...</td>\n",
       "    </tr>\n",
       "    <tr>\n",
       "      <th>16</th>\n",
       "      <td>2021-09-17</td>\n",
       "      <td>[[5230], [1487, 2257, 2259, 2260, 2261, 2319, ...</td>\n",
       "    </tr>\n",
       "    <tr>\n",
       "      <th>17</th>\n",
       "      <td>2021-09-18</td>\n",
       "      <td>[[5230], [8731], [8731, 8472, 501, 601, 611, 6...</td>\n",
       "    </tr>\n",
       "    <tr>\n",
       "      <th>18</th>\n",
       "      <td>2021-09-19</td>\n",
       "      <td>[[501, 601, 611, 621, 702, 703, 704, 705, 706,...</td>\n",
       "    </tr>\n",
       "  </tbody>\n",
       "</table>\n",
       "</div>"
      ],
      "text/plain": [
       "     from_date                                            pattern\n",
       "0   2021-09-01  [[1203, 1487, 2257, 2259, 2260, 2261, 2319, 25...\n",
       "1   2021-09-02  [[1203, 1487, 2257, 2259, 2260, 2261, 2319, 25...\n",
       "2   2021-09-03  [[1203, 1487, 2257, 2259, 2260, 2261, 2319, 25...\n",
       "3   2021-09-04  [[5230], [1203, 1487, 2257, 2259, 2260, 2261, ...\n",
       "4   2021-09-05  [[5230], [1203, 1487, 2257, 2259, 2260, 2261, ...\n",
       "5   2021-09-06  [[5230], [1203, 1487, 2257, 2259, 2260, 2261, ...\n",
       "6   2021-09-07  [[5230], [1203, 1487, 2257, 2259, 2260, 2261, ...\n",
       "7   2021-09-08  [[5230], [1203, 1487, 2257, 2259, 2260, 2261, ...\n",
       "8   2021-09-09  [[5230], [1203, 1487, 2257, 2259, 2260, 2261, ...\n",
       "9   2021-09-10  [[5230], [1203, 1487, 2257, 2259, 2260, 2261, ...\n",
       "10  2021-09-11  [[5230], [1203, 1487, 2257, 2259, 2260, 2261, ...\n",
       "11  2021-09-12  [[5230], [1203, 1487, 2257, 2259, 2260, 2261, ...\n",
       "12  2021-09-13  [[5230], [1203, 1487, 2257, 2259, 2260, 2261, ...\n",
       "13  2021-09-14  [[5230], [1203, 1366, 1487, 2141, 2232, 2257, ...\n",
       "14  2021-09-15  [[5230], [1203, 1487, 2257, 2259, 2260, 2261, ...\n",
       "15  2021-09-16  [[5230], [1487, 2257, 2259, 2260, 2261, 2319, ...\n",
       "16  2021-09-17  [[5230], [1487, 2257, 2259, 2260, 2261, 2319, ...\n",
       "17  2021-09-18  [[5230], [8731], [8731, 8472, 501, 601, 611, 6...\n",
       "18  2021-09-19  [[501, 601, 611, 621, 702, 703, 704, 705, 706,..."
      ]
     },
     "execution_count": 222,
     "metadata": {},
     "output_type": "execute_result"
    }
   ],
   "source": [
    "intervals_data_final.head(n=100)"
   ]
  },
  {
   "cell_type": "code",
   "execution_count": 226,
   "metadata": {},
   "outputs": [],
   "source": [
    "for i in range(0, len(intervals_data_final)):\n",
    "    c_interval=intervals_data_final.iloc[i].to_dict()\n",
    "    intervals_data_final[\"pattern\"][i]=np.array(intervals_data_final[\"pattern\"][i]).tostring()"
   ]
  },
  {
   "cell_type": "code",
   "execution_count": 126,
   "metadata": {},
   "outputs": [
    {
     "name": "stdout",
     "output_type": "stream",
     "text": [
      "Collecting prefixspan\n",
      "  Downloading prefixspan-0.5.2.tar.gz (10 kB)\n",
      "  Preparing metadata (setup.py) ... \u001b[?25ldone\n",
      "\u001b[?25hCollecting docopt>=0.6.2\n",
      "  Downloading docopt-0.6.2.tar.gz (25 kB)\n",
      "  Preparing metadata (setup.py) ... \u001b[?25ldone\n",
      "\u001b[?25hCollecting extratools>=0.8.1\n",
      "  Downloading extratools-0.8.2.1.tar.gz (25 kB)\n",
      "  Preparing metadata (setup.py) ... \u001b[?25ldone\n",
      "\u001b[?25hCollecting sortedcontainers>=1.5.10\n",
      "  Downloading sortedcontainers-2.4.0-py2.py3-none-any.whl (29 kB)\n",
      "Collecting toolz>=0.9.0\n",
      "  Downloading toolz-0.12.0-py3-none-any.whl (55 kB)\n",
      "\u001b[2K     \u001b[90m━━━━━━━━━━━━━━━━━━━━━━━━━━━━━━━━━━━━━━━━\u001b[0m \u001b[32m55.8/55.8 kB\u001b[0m \u001b[31m1.7 MB/s\u001b[0m eta \u001b[36m0:00:00\u001b[0m\n",
      "\u001b[?25hBuilding wheels for collected packages: prefixspan, docopt, extratools\n",
      "  Building wheel for prefixspan (setup.py) ... \u001b[?25ldone\n",
      "\u001b[?25h  Created wheel for prefixspan: filename=prefixspan-0.5.2-py3-none-any.whl size=11219 sha256=eba55ca6f3ebb9125d8e015276e0dfd8571dd1e792d0235bea114ae5d6c685c9\n",
      "  Stored in directory: /Users/lauraforerocamacho/Library/Caches/pip/wheels/85/bb/09/05c3cad48d0336b16e608274276fb337c3f7b2ec1d79136c9e\n",
      "  Building wheel for docopt (setup.py) ... \u001b[?25ldone\n",
      "\u001b[?25h  Created wheel for docopt: filename=docopt-0.6.2-py2.py3-none-any.whl size=13705 sha256=e7593f2212e3d7efaba1dd51ba437b340bfc5dce1a95e26ee4d3ebfe3fafb9fd\n",
      "  Stored in directory: /Users/lauraforerocamacho/Library/Caches/pip/wheels/ca/cc/e3/f1e272f628fdb013d969acc99cfe2e031ea15b3efb74ffe842\n",
      "  Building wheel for extratools (setup.py) ... \u001b[?25ldone\n",
      "\u001b[?25h  Created wheel for extratools: filename=extratools-0.8.2.1-py3-none-any.whl size=28867 sha256=87f10ba9769302dcd2cc91eac77b2bae78e2bc6fa32476dddd6af34ccc855a31\n",
      "  Stored in directory: /Users/lauraforerocamacho/Library/Caches/pip/wheels/2e/86/49/a0b4d796909797500e25d4d0e25a381c2d569397311f993579\n",
      "Successfully built prefixspan docopt extratools\n",
      "Installing collected packages: sortedcontainers, docopt, toolz, extratools, prefixspan\n",
      "Successfully installed docopt-0.6.2 extratools-0.8.2.1 prefixspan-0.5.2 sortedcontainers-2.4.0 toolz-0.12.0\n"
     ]
    }
   ],
   "source": [
    "!pip3 install prefixspan --user"
   ]
  },
  {
   "cell_type": "code",
   "execution_count": 227,
   "metadata": {},
   "outputs": [],
   "source": [
    "from prefixspan import PrefixSpan\n",
    "ps = PrefixSpan(intervals_data_final[\"pattern\"])\n"
   ]
  },
  {
   "cell_type": "code",
   "execution_count": 228,
   "metadata": {},
   "outputs": [],
   "source": [
    "print(ps.frequent(2))"
   ]
  },
  {
   "cell_type": "code",
   "execution_count": null,
   "metadata": {},
   "outputs": [],
   "source": [
    "print(ps.topk(5))"
   ]
  },
  {
   "cell_type": "code",
   "execution_count": null,
   "metadata": {},
   "outputs": [],
   "source": [
    "print(ps.frequent(2, closed=True))"
   ]
  },
  {
   "cell_type": "code",
   "execution_count": null,
   "metadata": {},
   "outputs": [],
   "source": [
    "print(ps.topk(5, closed=True))\n"
   ]
  },
  {
   "cell_type": "code",
   "execution_count": 47,
   "metadata": {},
   "outputs": [],
   "source": [
    "data[\"ewt\"]= data[\"ewt\"].astype(int)/60"
   ]
  },
  {
   "cell_type": "code",
   "execution_count": 48,
   "metadata": {},
   "outputs": [
    {
     "data": {
      "text/plain": [
       "array([[<AxesSubplot:title={'center':'ewt'}>]], dtype=object)"
      ]
     },
     "execution_count": 48,
     "metadata": {},
     "output_type": "execute_result"
    },
    {
     "data": {
      "image/png": "[encoded data removed]",
      "text/plain": [
       "<Figure size 432x288 with 1 Axes>"
      ]
     },
     "metadata": {
      "needs_background": "light"
     },
     "output_type": "display_data"
    }
   ],
   "source": [
    "data.hist(column='ewt')"
   ]
  },
  {
   "cell_type": "code",
   "execution_count": 49,
   "metadata": {},
   "outputs": [
    {
     "data": {
      "text/html": [
       "<div>\n",
       "<style scoped>\n",
       "    .dataframe tbody tr th:only-of-type {\n",
       "        vertical-align: middle;\n",
       "    }\n",
       "\n",
       "    .dataframe tbody tr th {\n",
       "        vertical-align: top;\n",
       "    }\n",
       "\n",
       "    .dataframe thead th {\n",
       "        text-align: right;\n",
       "    }\n",
       "</style>\n",
       "<table border=\"1\" class=\"dataframe\">\n",
       "  <thead>\n",
       "    <tr style=\"text-align: right;\">\n",
       "      <th></th>\n",
       "      <th>det_rank</th>\n",
       "      <th>det_weight</th>\n",
       "    </tr>\n",
       "  </thead>\n",
       "  <tbody>\n",
       "    <tr>\n",
       "      <th>ewt_minutes</th>\n",
       "      <td>0</td>\n",
       "      <td>1.000000</td>\n",
       "    </tr>\n",
       "    <tr>\n",
       "      <th>waiting_time_real</th>\n",
       "      <td>1</td>\n",
       "      <td>0.991777</td>\n",
       "    </tr>\n",
       "    <tr>\n",
       "      <th>route_short_name</th>\n",
       "      <td>2</td>\n",
       "      <td>0.041216</td>\n",
       "    </tr>\n",
       "    <tr>\n",
       "      <th>waiting_time_scheduled</th>\n",
       "      <td>3</td>\n",
       "      <td>0.018227</td>\n",
       "    </tr>\n",
       "    <tr>\n",
       "      <th>route_id</th>\n",
       "      <td>4</td>\n",
       "      <td>0.015993</td>\n",
       "    </tr>\n",
       "    <tr>\n",
       "      <th>route_type</th>\n",
       "      <td>5</td>\n",
       "      <td>0.013986</td>\n",
       "    </tr>\n",
       "    <tr>\n",
       "      <th>saturday</th>\n",
       "      <td>6</td>\n",
       "      <td>0.008609</td>\n",
       "    </tr>\n",
       "    <tr>\n",
       "      <th>friday</th>\n",
       "      <td>7</td>\n",
       "      <td>0.008187</td>\n",
       "    </tr>\n",
       "    <tr>\n",
       "      <th>thursday</th>\n",
       "      <td>8</td>\n",
       "      <td>0.008187</td>\n",
       "    </tr>\n",
       "    <tr>\n",
       "      <th>wednesday</th>\n",
       "      <td>9</td>\n",
       "      <td>0.008187</td>\n",
       "    </tr>\n",
       "  </tbody>\n",
       "</table>\n",
       "</div>"
      ],
      "text/plain": [
       "                        det_rank  det_weight\n",
       "ewt_minutes                    0    1.000000\n",
       "waiting_time_real              1    0.991777\n",
       "route_short_name               2    0.041216\n",
       "waiting_time_scheduled         3    0.018227\n",
       "route_id                       4    0.015993\n",
       "route_type                     5    0.013986\n",
       "saturday                       6    0.008609\n",
       "friday                         7    0.008187\n",
       "thursday                       8    0.008187\n",
       "wednesday                      9    0.008187"
      ]
     },
     "execution_count": 49,
     "metadata": {},
     "output_type": "execute_result"
    },
    {
     "data": {
      "image/png": "[encoded data removed]",
      "text/plain": [
       "<Figure size 1080x576 with 2 Axes>"
      ]
     },
     "metadata": {
      "needs_background": "light"
     },
     "output_type": "display_data"
    }
   ],
   "source": [
    "ordinal_features=['route_id', 'route_short_name', 'stop_id', 'direction_id',\n",
    "        'from_time', 'to_time', 'from_date',\n",
    "       'to_date', 'monday', 'tuesday', 'wednesday', 'thursday', 'friday',\n",
    "       'saturday', 'sunday', 'route_type', 'waiting_time_real',\n",
    "       'waiting_time_scheduled',  'ewt_category']\n",
    "\n",
    "# Correlation\n",
    "\n",
    "f, (ax1, ax2) = plt.subplots(2, 1, figsize=(15, 8), sharey=True)\n",
    "plt.subplots_adjust(hspace=0.5)\n",
    "\n",
    "\n",
    "\n",
    "# ordinal features\n",
    "data[ordinal_features].corrwith(data.ewt).agg('square').plot.bar(ax=ax2, alpha=0.5)\n",
    "ax2.set_title('Coefficient of Determination: Ordinal Features')\n",
    "ax2.grid()\n",
    "\n",
    "\n",
    "#Get table correlation\n",
    "\n",
    "results = pd.DataFrame(data.drop('ewt', axis=1).corrwith(data.ewt).agg('square'), \n",
    "                       columns=['det_weight'])\n",
    "\n",
    "ranks = np.zeros(len(results), dtype=np.int)\n",
    "for i, j in enumerate(np.argsort(results.det_weight)[::-1]):\n",
    "    ranks[j] = i\n",
    "results['det_rank'] = ranks\n",
    "\n",
    "results.sort_values('det_rank').loc[:, ['det_rank', 'det_weight']].iloc[0:10]"
   ]
  },
  {
   "cell_type": "code",
   "execution_count": 13,
   "metadata": {},
   "outputs": [
    {
     "name": "stdout",
     "output_type": "stream",
     "text": [
      "Collecting scikit-learn\n",
      "  Downloading scikit_learn-1.2.0-cp38-cp38-macosx_10_9_x86_64.whl (8.9 MB)\n",
      "\u001b[2K     \u001b[90m━━━━━━━━━━━━━━━━━━━━━━━━━━━━━━━━━━━━━━━━\u001b[0m \u001b[32m8.9/8.9 MB\u001b[0m \u001b[31m2.8 MB/s\u001b[0m eta \u001b[36m0:00:00\u001b[0m00:01\u001b[0m00:01\u001b[0m\n",
      "\u001b[?25hRequirement already satisfied: scipy in /Users/lauraforerocamacho/Library/Python/3.8/lib/python/site-packages (1.7.3)\n",
      "Requirement already satisfied: matplotlib in /Users/lauraforerocamacho/Library/Python/3.8/lib/python/site-packages (3.5.1)\n",
      "Collecting threadpoolctl>=2.0.0\n",
      "  Using cached threadpoolctl-3.1.0-py3-none-any.whl (14 kB)\n",
      "Requirement already satisfied: joblib>=1.1.1 in /Users/lauraforerocamacho/Library/Python/3.8/lib/python/site-packages (from scikit-learn) (1.2.0)\n",
      "Requirement already satisfied: numpy>=1.17.3 in /Users/lauraforerocamacho/Library/Python/3.8/lib/python/site-packages (from scikit-learn) (1.22.1)\n",
      "Requirement already satisfied: cycler>=0.10 in /Users/lauraforerocamacho/Library/Python/3.8/lib/python/site-packages (from matplotlib) (0.11.0)\n",
      "Requirement already satisfied: python-dateutil>=2.7 in /Users/lauraforerocamacho/Library/Python/3.8/lib/python/site-packages (from matplotlib) (2.8.2)\n",
      "Requirement already satisfied: packaging>=20.0 in /Users/lauraforerocamacho/Library/Python/3.8/lib/python/site-packages (from matplotlib) (21.3)\n",
      "Requirement already satisfied: pyparsing>=2.2.1 in /Users/lauraforerocamacho/Library/Python/3.8/lib/python/site-packages (from matplotlib) (3.0.7)\n",
      "Requirement already satisfied: fonttools>=4.22.0 in /Users/lauraforerocamacho/Library/Python/3.8/lib/python/site-packages (from matplotlib) (4.29.0)\n",
      "Requirement already satisfied: pillow>=6.2.0 in /Users/lauraforerocamacho/Library/Python/3.8/lib/python/site-packages (from matplotlib) (9.0.0)\n",
      "Requirement already satisfied: kiwisolver>=1.0.1 in /Users/lauraforerocamacho/Library/Python/3.8/lib/python/site-packages (from matplotlib) (1.3.2)\n",
      "Requirement already satisfied: six>=1.5 in /Users/lauraforerocamacho/Library/Python/3.8/lib/python/site-packages (from python-dateutil>=2.7->matplotlib) (1.16.0)\n",
      "Installing collected packages: threadpoolctl, scikit-learn\n",
      "Successfully installed scikit-learn-1.2.0 threadpoolctl-3.1.0\n"
     ]
    }
   ],
   "source": [
    "!pip3 install scikit-learn scipy matplotlib --user"
   ]
  },
  {
   "cell_type": "code",
   "execution_count": 65,
   "metadata": {},
   "outputs": [],
   "source": [
    "features=['route_id', 'route_short_name', 'stop_id', 'direction_id',\n",
    "        'from_time', 'to_time', 'from_date',\n",
    "       'to_date', 'monday', 'tuesday', 'wednesday', 'thursday', 'friday',\n",
    "       'saturday', 'sunday', 'route_type', 'waiting_time_real',\n",
    "       'waiting_time_scheduled',  'ewt_category']\n",
    "X=data[['route_id', 'route_short_name', 'stop_id', 'direction_id',\n",
    "        'from_time', 'to_time', 'monday', 'tuesday', 'wednesday', 'thursday', 'friday',\n",
    "       'saturday', 'sunday', 'route_type', 'waiting_time_real',\n",
    "       'waiting_time_scheduled']]\n",
    "Y=data[\"ewt_category\"]"
   ]
  },
  {
   "cell_type": "code",
   "execution_count": 66,
   "metadata": {},
   "outputs": [],
   "source": [
    "from sklearn import preprocessing\n",
    "\n",
    "\n",
    "for i  in ['from_time', 'to_time']:\n",
    "    le = preprocessing.LabelEncoder()\n",
    "    X[i]=le.fit_transform(X[i].astype(str))"
   ]
  },
  {
   "cell_type": "code",
   "execution_count": 67,
   "metadata": {},
   "outputs": [
    {
     "name": "stdout",
     "output_type": "stream",
     "text": [
      "[1.226e+04 1.785e+04 1.693e+06 6.578e+01 1.281e+05 1.851e+05 6.178e+01\n",
      " 6.178e+01 6.178e+01 6.178e+01 6.178e+01 4.717e+01 6.750e+01 7.679e+02\n",
      " 3.125e+06 2.001e+04]\n",
      "[[8011.     164.    2432.     300.65 ]\n",
      " [8011.    3854.    3360.     301.041]\n",
      " [8011.     602.    3360.     341.022]\n",
      " [8011.    1385.    3360.     286.691]\n",
      " [8011.     602.    3360.     308.36 ]]\n"
     ]
    }
   ],
   "source": [
    "# Import the necessary libraries first\n",
    "from sklearn.feature_selection import SelectKBest\n",
    "from sklearn.feature_selection import chi2\n",
    "\n",
    "test = SelectKBest(score_func=chi2, k=4)\n",
    "fit = test.fit(X, Y)\n",
    "\n",
    "# Summarize scores\n",
    "np.set_printoptions(precision=3)\n",
    "print(fit.scores_)\n",
    "\n",
    "features = fit.transform(X)\n",
    "# Summarize selected features\n",
    "print(features[0:5,:])"
   ]
  },
  {
   "cell_type": "code",
   "execution_count": 68,
   "metadata": {},
   "outputs": [
    {
     "name": "stdout",
     "output_type": "stream",
     "text": [
      "Num Features: 8\n",
      "Selected Features: [ True  True  True False  True  True False False False False False False\n",
      " False  True  True  True]\n",
      "Feature Ranking: [1 1 1 2 1 1 5 7 6 4 3 8 9 1 1 1]\n"
     ]
    }
   ],
   "source": [
    "from sklearn.feature_selection import RFE\n",
    "from sklearn.linear_model import LogisticRegression\n",
    "# Feature extraction\n",
    "model = LogisticRegression()\n",
    "rfe = RFE(model)\n",
    "fit = rfe.fit(X, Y)\n",
    "print(\"Num Features: %s\" % (fit.n_features_))\n",
    "print(\"Selected Features: %s\" % (fit.support_))\n",
    "print(\"Feature Ranking: %s\" % (fit.ranking_))"
   ]
  },
  {
   "cell_type": "code",
   "execution_count": 71,
   "metadata": {},
   "outputs": [
    {
     "data": {
      "text/html": [
       "<style>#sk-container-id-1 {color: black;background-color: white;}#sk-container-id-1 pre{padding: 0;}#sk-container-id-1 div.sk-toggleable {background-color: white;}#sk-container-id-1 label.sk-toggleable__label {cursor: pointer;display: block;width: 100%;margin-bottom: 0;padding: 0.3em;box-sizing: border-box;text-align: center;}#sk-container-id-1 label.sk-toggleable__label-arrow:before {content: \"▸\";float: left;margin-right: 0.25em;color: #696969;}#sk-container-id-1 label.sk-toggleable__label-arrow:hover:before {color: black;}#sk-container-id-1 div.sk-estimator:hover label.sk-toggleable__label-arrow:before {color: black;}#sk-container-id-1 div.sk-toggleable__content {max-height: 0;max-width: 0;overflow: hidden;text-align: left;background-color: #f0f8ff;}#sk-container-id-1 div.sk-toggleable__content pre {margin: 0.2em;color: black;border-radius: 0.25em;background-color: #f0f8ff;}#sk-container-id-1 input.sk-toggleable__control:checked~div.sk-toggleable__content {max-height: 200px;max-width: 100%;overflow: auto;}#sk-container-id-1 input.sk-toggleable__control:checked~label.sk-toggleable__label-arrow:before {content: \"▾\";}#sk-container-id-1 div.sk-estimator input.sk-toggleable__control:checked~label.sk-toggleable__label {background-color: #d4ebff;}#sk-container-id-1 div.sk-label input.sk-toggleable__control:checked~label.sk-toggleable__label {background-color: #d4ebff;}#sk-container-id-1 input.sk-hidden--visually {border: 0;clip: rect(1px 1px 1px 1px);clip: rect(1px, 1px, 1px, 1px);height: 1px;margin: -1px;overflow: hidden;padding: 0;position: absolute;width: 1px;}#sk-container-id-1 div.sk-estimator {font-family: monospace;background-color: #f0f8ff;border: 1px dotted black;border-radius: 0.25em;box-sizing: border-box;margin-bottom: 0.5em;}#sk-container-id-1 div.sk-estimator:hover {background-color: #d4ebff;}#sk-container-id-1 div.sk-parallel-item::after {content: \"\";width: 100%;border-bottom: 1px solid gray;flex-grow: 1;}#sk-container-id-1 div.sk-label:hover label.sk-toggleable__label {background-color: #d4ebff;}#sk-container-id-1 div.sk-serial::before {content: \"\";position: absolute;border-left: 1px solid gray;box-sizing: border-box;top: 0;bottom: 0;left: 50%;z-index: 0;}#sk-container-id-1 div.sk-serial {display: flex;flex-direction: column;align-items: center;background-color: white;padding-right: 0.2em;padding-left: 0.2em;position: relative;}#sk-container-id-1 div.sk-item {position: relative;z-index: 1;}#sk-container-id-1 div.sk-parallel {display: flex;align-items: stretch;justify-content: center;background-color: white;position: relative;}#sk-container-id-1 div.sk-item::before, #sk-container-id-1 div.sk-parallel-item::before {content: \"\";position: absolute;border-left: 1px solid gray;box-sizing: border-box;top: 0;bottom: 0;left: 50%;z-index: -1;}#sk-container-id-1 div.sk-parallel-item {display: flex;flex-direction: column;z-index: 1;position: relative;background-color: white;}#sk-container-id-1 div.sk-parallel-item:first-child::after {align-self: flex-end;width: 50%;}#sk-container-id-1 div.sk-parallel-item:last-child::after {align-self: flex-start;width: 50%;}#sk-container-id-1 div.sk-parallel-item:only-child::after {width: 0;}#sk-container-id-1 div.sk-dashed-wrapped {border: 1px dashed gray;margin: 0 0.4em 0.5em 0.4em;box-sizing: border-box;padding-bottom: 0.4em;background-color: white;}#sk-container-id-1 div.sk-label label {font-family: monospace;font-weight: bold;display: inline-block;line-height: 1.2em;}#sk-container-id-1 div.sk-label-container {text-align: center;}#sk-container-id-1 div.sk-container {/* jupyter's `normalize.less` sets `[hidden] { display: none; }` but bootstrap.min.css set `[hidden] { display: none !important; }` so we also need the `!important` here to be able to override the default hidden behavior on the sphinx rendered scikit-learn.org. See: https://github.com/scikit-learn/scikit-learn/issues/21755 */display: inline-block !important;position: relative;}#sk-container-id-1 div.sk-text-repr-fallback {display: none;}</style><div id=\"sk-container-id-1\" class=\"sk-top-container\"><div class=\"sk-text-repr-fallback\"><pre>GridSearchCV(cv=10,\n",
       "             estimator=Pipeline(steps=[(&#x27;scaler&#x27;, RobustScaler()),\n",
       "                                       (&#x27;model&#x27;, Lasso(random_state=42))]),\n",
       "             param_grid={&#x27;model__alpha&#x27;: [0.001, 0.01, 0.1, 1, 10, 100, 1000]},\n",
       "             scoring=&#x27;neg_mean_squared_error&#x27;)</pre><b>In a Jupyter environment, please rerun this cell to show the HTML representation or trust the notebook. <br />On GitHub, the HTML representation is unable to render, please try loading this page with nbviewer.org.</b></div><div class=\"sk-container\" hidden><div class=\"sk-item sk-dashed-wrapped\"><div class=\"sk-label-container\"><div class=\"sk-label sk-toggleable\"><input class=\"sk-toggleable__control sk-hidden--visually\" id=\"sk-estimator-id-1\" type=\"checkbox\" ><label for=\"sk-estimator-id-1\" class=\"sk-toggleable__label sk-toggleable__label-arrow\">GridSearchCV</label><div class=\"sk-toggleable__content\"><pre>GridSearchCV(cv=10,\n",
       "             estimator=Pipeline(steps=[(&#x27;scaler&#x27;, RobustScaler()),\n",
       "                                       (&#x27;model&#x27;, Lasso(random_state=42))]),\n",
       "             param_grid={&#x27;model__alpha&#x27;: [0.001, 0.01, 0.1, 1, 10, 100, 1000]},\n",
       "             scoring=&#x27;neg_mean_squared_error&#x27;)</pre></div></div></div><div class=\"sk-parallel\"><div class=\"sk-parallel-item\"><div class=\"sk-item\"><div class=\"sk-label-container\"><div class=\"sk-label sk-toggleable\"><input class=\"sk-toggleable__control sk-hidden--visually\" id=\"sk-estimator-id-2\" type=\"checkbox\" ><label for=\"sk-estimator-id-2\" class=\"sk-toggleable__label sk-toggleable__label-arrow\">estimator: Pipeline</label><div class=\"sk-toggleable__content\"><pre>Pipeline(steps=[(&#x27;scaler&#x27;, RobustScaler()), (&#x27;model&#x27;, Lasso(random_state=42))])</pre></div></div></div><div class=\"sk-serial\"><div class=\"sk-item\"><div class=\"sk-serial\"><div class=\"sk-item\"><div class=\"sk-estimator sk-toggleable\"><input class=\"sk-toggleable__control sk-hidden--visually\" id=\"sk-estimator-id-3\" type=\"checkbox\" ><label for=\"sk-estimator-id-3\" class=\"sk-toggleable__label sk-toggleable__label-arrow\">RobustScaler</label><div class=\"sk-toggleable__content\"><pre>RobustScaler()</pre></div></div></div><div class=\"sk-item\"><div class=\"sk-estimator sk-toggleable\"><input class=\"sk-toggleable__control sk-hidden--visually\" id=\"sk-estimator-id-4\" type=\"checkbox\" ><label for=\"sk-estimator-id-4\" class=\"sk-toggleable__label sk-toggleable__label-arrow\">Lasso</label><div class=\"sk-toggleable__content\"><pre>Lasso(random_state=42)</pre></div></div></div></div></div></div></div></div></div></div></div></div>"
      ],
      "text/plain": [
       "GridSearchCV(cv=10,\n",
       "             estimator=Pipeline(steps=[('scaler', RobustScaler()),\n",
       "                                       ('model', Lasso(random_state=42))]),\n",
       "             param_grid={'model__alpha': [0.001, 0.01, 0.1, 1, 10, 100, 1000]},\n",
       "             scoring='neg_mean_squared_error')"
      ]
     },
     "execution_count": 71,
     "metadata": {},
     "output_type": "execute_result"
    }
   ],
   "source": [
    "from sklearn.linear_model import Lasso\n",
    "from sklearn.preprocessing import RobustScaler\n",
    "from sklearn.pipeline import Pipeline\n",
    "from sklearn.model_selection import GridSearchCV\n",
    "\n",
    "pipe = Pipeline([('scaler', RobustScaler()), \n",
    "                 ('model', Lasso(random_state=42))])\n",
    "\n",
    "param_space = {'model__alpha': [0.001, 0.01, 0.1, 1, 10, 100, 1000]}\n",
    "\n",
    "grid = GridSearchCV(pipe, param_grid=param_space, cv=10, scoring='neg_mean_squared_error')\n",
    "\n",
    "grid.fit(X, data[\"ewt\"])\n"
   ]
  },
  {
   "cell_type": "code",
   "execution_count": 72,
   "metadata": {},
   "outputs": [
    {
     "name": "stdout",
     "output_type": "stream",
     "text": [
      "best-fit parameters: {'model__alpha': 0.001}\n",
      "prediction rms residuals: 1.013359649600832\n"
     ]
    }
   ],
   "source": [
    "print('best-fit parameters:', grid.best_params_)\n",
    "print('prediction rms residuals:', 10**(np.sqrt(-grid.best_score_)))"
   ]
  },
  {
   "cell_type": "code",
   "execution_count": 73,
   "metadata": {},
   "outputs": [
    {
     "ename": "ValueError",
     "evalue": "Length of values (16) does not match length of index (15)",
     "output_type": "error",
     "traceback": [
      "\u001b[0;31m---------------------------------------------------------------------------\u001b[0m",
      "\u001b[0;31mValueError\u001b[0m                                Traceback (most recent call last)",
      "\u001b[1;32m/Users/lauraforerocamacho/Downloads/Maestria/DataMining/ProjectDataMining/STIB-MIVBProject/ModelAnalysisRegularity.ipynb Cell 17\u001b[0m in \u001b[0;36m<module>\u001b[0;34m\u001b[0m\n\u001b[1;32m      <a href='vscode-notebook-cell:/Users/lauraforerocamacho/Downloads/Maestria/DataMining/ProjectDataMining/STIB-MIVBProject/ModelAnalysisRegularity.ipynb#X15sZmlsZQ%3D%3D?line=0'>1</a>\u001b[0m weights \u001b[39m=\u001b[39m grid\u001b[39m.\u001b[39mbest_estimator_\u001b[39m.\u001b[39msteps[\u001b[39m1\u001b[39m][\u001b[39m1\u001b[39m]\u001b[39m.\u001b[39mcoef_\n\u001b[0;32m----> <a href='vscode-notebook-cell:/Users/lauraforerocamacho/Downloads/Maestria/DataMining/ProjectDataMining/STIB-MIVBProject/ModelAnalysisRegularity.ipynb#X15sZmlsZQ%3D%3D?line=2'>3</a>\u001b[0m results[\u001b[39m'\u001b[39m\u001b[39mlasso_weight\u001b[39m\u001b[39m'\u001b[39m] \u001b[39m=\u001b[39m weights\n\u001b[1;32m      <a href='vscode-notebook-cell:/Users/lauraforerocamacho/Downloads/Maestria/DataMining/ProjectDataMining/STIB-MIVBProject/ModelAnalysisRegularity.ipynb#X15sZmlsZQ%3D%3D?line=4'>5</a>\u001b[0m ranks \u001b[39m=\u001b[39m np\u001b[39m.\u001b[39mzeros(\u001b[39mlen\u001b[39m(results), dtype\u001b[39m=\u001b[39mnp\u001b[39m.\u001b[39mint)\n\u001b[1;32m      <a href='vscode-notebook-cell:/Users/lauraforerocamacho/Downloads/Maestria/DataMining/ProjectDataMining/STIB-MIVBProject/ModelAnalysisRegularity.ipynb#X15sZmlsZQ%3D%3D?line=5'>6</a>\u001b[0m \u001b[39mfor\u001b[39;00m i, j \u001b[39min\u001b[39;00m \u001b[39menumerate\u001b[39m(np\u001b[39m.\u001b[39margsort(weights)[::\u001b[39m-\u001b[39m\u001b[39m1\u001b[39m]):\n",
      "File \u001b[0;32m~/Library/Python/3.8/lib/python/site-packages/pandas/core/frame.py:3656\u001b[0m, in \u001b[0;36mDataFrame.__setitem__\u001b[0;34m(self, key, value)\u001b[0m\n\u001b[1;32m   3653\u001b[0m     \u001b[39mself\u001b[39m\u001b[39m.\u001b[39m_setitem_array([key], value)\n\u001b[1;32m   3654\u001b[0m \u001b[39melse\u001b[39;00m:\n\u001b[1;32m   3655\u001b[0m     \u001b[39m# set column\u001b[39;00m\n\u001b[0;32m-> 3656\u001b[0m     \u001b[39mself\u001b[39;49m\u001b[39m.\u001b[39;49m_set_item(key, value)\n",
      "File \u001b[0;32m~/Library/Python/3.8/lib/python/site-packages/pandas/core/frame.py:3833\u001b[0m, in \u001b[0;36mDataFrame._set_item\u001b[0;34m(self, key, value)\u001b[0m\n\u001b[1;32m   3823\u001b[0m \u001b[39mdef\u001b[39;00m \u001b[39m_set_item\u001b[39m(\u001b[39mself\u001b[39m, key, value) \u001b[39m-\u001b[39m\u001b[39m>\u001b[39m \u001b[39mNone\u001b[39;00m:\n\u001b[1;32m   3824\u001b[0m     \u001b[39m\"\"\"\u001b[39;00m\n\u001b[1;32m   3825\u001b[0m \u001b[39m    Add series to DataFrame in specified column.\u001b[39;00m\n\u001b[1;32m   3826\u001b[0m \n\u001b[0;32m   (...)\u001b[0m\n\u001b[1;32m   3831\u001b[0m \u001b[39m    ensure homogeneity.\u001b[39;00m\n\u001b[1;32m   3832\u001b[0m \u001b[39m    \"\"\"\u001b[39;00m\n\u001b[0;32m-> 3833\u001b[0m     value \u001b[39m=\u001b[39m \u001b[39mself\u001b[39;49m\u001b[39m.\u001b[39;49m_sanitize_column(value)\n\u001b[1;32m   3835\u001b[0m     \u001b[39mif\u001b[39;00m (\n\u001b[1;32m   3836\u001b[0m         key \u001b[39min\u001b[39;00m \u001b[39mself\u001b[39m\u001b[39m.\u001b[39mcolumns\n\u001b[1;32m   3837\u001b[0m         \u001b[39mand\u001b[39;00m value\u001b[39m.\u001b[39mndim \u001b[39m==\u001b[39m \u001b[39m1\u001b[39m\n\u001b[1;32m   3838\u001b[0m         \u001b[39mand\u001b[39;00m \u001b[39mnot\u001b[39;00m is_extension_array_dtype(value)\n\u001b[1;32m   3839\u001b[0m     ):\n\u001b[1;32m   3840\u001b[0m         \u001b[39m# broadcast across multiple columns if necessary\u001b[39;00m\n\u001b[1;32m   3841\u001b[0m         \u001b[39mif\u001b[39;00m \u001b[39mnot\u001b[39;00m \u001b[39mself\u001b[39m\u001b[39m.\u001b[39mcolumns\u001b[39m.\u001b[39mis_unique \u001b[39mor\u001b[39;00m \u001b[39misinstance\u001b[39m(\u001b[39mself\u001b[39m\u001b[39m.\u001b[39mcolumns, MultiIndex):\n",
      "File \u001b[0;32m~/Library/Python/3.8/lib/python/site-packages/pandas/core/frame.py:4537\u001b[0m, in \u001b[0;36mDataFrame._sanitize_column\u001b[0;34m(self, value)\u001b[0m\n\u001b[1;32m   4534\u001b[0m     \u001b[39mreturn\u001b[39;00m _reindex_for_setitem(value, \u001b[39mself\u001b[39m\u001b[39m.\u001b[39mindex)\n\u001b[1;32m   4536\u001b[0m \u001b[39mif\u001b[39;00m is_list_like(value):\n\u001b[0;32m-> 4537\u001b[0m     com\u001b[39m.\u001b[39;49mrequire_length_match(value, \u001b[39mself\u001b[39;49m\u001b[39m.\u001b[39;49mindex)\n\u001b[1;32m   4538\u001b[0m \u001b[39mreturn\u001b[39;00m sanitize_array(value, \u001b[39mself\u001b[39m\u001b[39m.\u001b[39mindex, copy\u001b[39m=\u001b[39m\u001b[39mTrue\u001b[39;00m, allow_2d\u001b[39m=\u001b[39m\u001b[39mTrue\u001b[39;00m)\n",
      "File \u001b[0;32m~/Library/Python/3.8/lib/python/site-packages/pandas/core/common.py:557\u001b[0m, in \u001b[0;36mrequire_length_match\u001b[0;34m(data, index)\u001b[0m\n\u001b[1;32m    553\u001b[0m \u001b[39m\"\"\"\u001b[39;00m\n\u001b[1;32m    554\u001b[0m \u001b[39mCheck the length of data matches the length of the index.\u001b[39;00m\n\u001b[1;32m    555\u001b[0m \u001b[39m\"\"\"\u001b[39;00m\n\u001b[1;32m    556\u001b[0m \u001b[39mif\u001b[39;00m \u001b[39mlen\u001b[39m(data) \u001b[39m!=\u001b[39m \u001b[39mlen\u001b[39m(index):\n\u001b[0;32m--> 557\u001b[0m     \u001b[39mraise\u001b[39;00m \u001b[39mValueError\u001b[39;00m(\n\u001b[1;32m    558\u001b[0m         \u001b[39m\"\u001b[39m\u001b[39mLength of values \u001b[39m\u001b[39m\"\u001b[39m\n\u001b[1;32m    559\u001b[0m         \u001b[39mf\u001b[39m\u001b[39m\"\u001b[39m\u001b[39m(\u001b[39m\u001b[39m{\u001b[39;00m\u001b[39mlen\u001b[39m(data)\u001b[39m}\u001b[39;00m\u001b[39m) \u001b[39m\u001b[39m\"\u001b[39m\n\u001b[1;32m    560\u001b[0m         \u001b[39m\"\u001b[39m\u001b[39mdoes not match length of index \u001b[39m\u001b[39m\"\u001b[39m\n\u001b[1;32m    561\u001b[0m         \u001b[39mf\u001b[39m\u001b[39m\"\u001b[39m\u001b[39m(\u001b[39m\u001b[39m{\u001b[39;00m\u001b[39mlen\u001b[39m(index)\u001b[39m}\u001b[39;00m\u001b[39m)\u001b[39m\u001b[39m\"\u001b[39m\n\u001b[1;32m    562\u001b[0m     )\n",
      "\u001b[0;31mValueError\u001b[0m: Length of values (16) does not match length of index (15)"
     ]
    }
   ],
   "source": [
    "weights = grid.best_estimator_.steps[1][1].coef_\n",
    "\n",
    "results['lasso_weight'] = weights\n",
    "\n",
    "ranks = np.zeros(len(results), dtype=np.int)\n",
    "for i, j in enumerate(np.argsort(weights)[::-1]):\n",
    "    ranks[j] = i\n",
    "results['lasso_rank'] = ranks\n",
    "\n",
    "results.sort_values('lasso_rank').loc[:, ['lasso_rank', 'lasso_weight']].iloc[0:10]"
   ]
  },
  {
   "attachments": {},
   "cell_type": "markdown",
   "metadata": {},
   "source": [
    "### Random forest to see insights "
   ]
  },
  {
   "cell_type": "code",
   "execution_count": null,
   "metadata": {},
   "outputs": [],
   "source": [
    "import pandas\n",
    "from sklearn import tree\n",
    "from sklearn.tree import DecisionTreeClassifier\n",
    "import matplotlib.pyplot as plt\n",
    "\n",
    "features=[]\n",
    "\n",
    "X = data[features]\n",
    "y = data.ewt\n",
    "\n",
    "dtree = DecisionTreeClassifier()\n",
    "dtree = dtree.fit(X, y)\n",
    "\n",
    "tree.plot_tree(dtree, feature_names=features)"
   ]
  },
  {
   "attachments": {},
   "cell_type": "markdown",
   "metadata": {},
   "source": [
    "### Model Sequential"
   ]
  },
  {
   "cell_type": "code",
   "execution_count": null,
   "metadata": {},
   "outputs": [],
   "source": []
  }
 ],
 "metadata": {
  "kernelspec": {
   "display_name": "Python 3",
   "language": "python",
   "name": "python3"
  },
  "language_info": {
   "codemirror_mode": {
    "name": "ipython",
    "version": 3
   },
   "file_extension": ".py",
   "mimetype": "text/x-python",
   "name": "python",
   "nbconvert_exporter": "python",
   "pygments_lexer": "ipython3",
   "version": "3.8.9 (default, Apr 13 2022, 08:48:07) \n[Clang 13.1.6 (clang-1316.0.21.2.5)]"
  },
  "orig_nbformat": 4,
  "vscode": {
   "interpreter": {
    "hash": "31f2aee4e71d21fbe5cf8b01ff0e069b9275f58929596ceb00d14d90e3e16cd6"
   }
  }
 },
 "nbformat": 4,
 "nbformat_minor": 2
}
