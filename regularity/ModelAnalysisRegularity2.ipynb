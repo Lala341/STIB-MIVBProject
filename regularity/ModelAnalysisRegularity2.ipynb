{
 "cells": [
  {
   "attachments": {},
   "cell_type": "markdown",
   "metadata": {},
   "source": [
    "### Feature selection table results per timegroup"
   ]
  },
  {
   "cell_type": "code",
   "execution_count": 1,
   "metadata": {},
   "outputs": [],
   "source": [
    "import pandas as pd\n",
    "import numpy as np\n",
    "import matplotlib.pyplot as plt\n",
    "import seaborn as sns\n",
    "from datetime import datetime,date,timedelta\n",
    "import matplotlib.pyplot as plt\n",
    "import matplotlib.dates as mdates\n",
    "import psycopg2\n",
    "import pandas.io.sql as psql\n",
    "from sqlalchemy import create_engine\n",
    "import sshtunnel \n",
    "import psycopg2.extras\n",
    "import csv\n",
    "import re"
   ]
  },
  {
   "cell_type": "code",
   "execution_count": 2,
   "metadata": {},
   "outputs": [],
   "source": [
    "def get_data_regularity():\n",
    "    \n",
    "    #SQL statement regularity_trip_timegroups_results\n",
    "    sql = \"\"\"select *\n",
    "from regularity_trip_timegroups_results\n",
    "order by route_short_name, stop_id, direction_id, from_date_time\"\"\"\n",
    "    \n",
    "    #database connection\n",
    "\n",
    "    try:\n",
    "        sshtunnel.SSH_TIMEOUT = 10.0\n",
    "        with sshtunnel.SSHTunnelForwarder(\n",
    "                ('3.83.88.154', 22),\n",
    "                ssh_username='ec2-user',\n",
    "                #CHANGE PATH TO rds-example.cer\n",
    "                ssh_pkey='/Users/lauraforerocamacho/Downloads/rds-example.cer',\n",
    "                remote_bind_address=('stib-mivb.cjo3cnpt9pci.us-east-1.rds.amazonaws.com', 5432)\n",
    "        ) as tunnel:\n",
    "                conn = psycopg2.connect(\n",
    "                        host='127.0.0.1',\n",
    "                        port=tunnel.local_bind_port,     \n",
    "                        database=\"stibmivbdb\",\n",
    "                        user=\"postgres\",\n",
    "                        password=\"stib-mivb-db1\")\n",
    "\n",
    "                cur = conn.cursor()\n",
    "                #perform sql and write result to dataframe\n",
    "                cur.execute(sql)\n",
    "                field_names = [i[0] for i in cur.description]\n",
    "                query_results = pd.DataFrame(cur.fetchall(),columns=field_names)\n",
    "                #close connection\n",
    "                cur.close()\n",
    "                \n",
    "                return query_results\n",
    "    except Exception as e:\n",
    "            print(e)"
   ]
  },
  {
   "cell_type": "code",
   "execution_count": 3,
   "metadata": {},
   "outputs": [],
   "source": [
    "def get_defined_intervals():\n",
    "    \n",
    "    #SQL statement regularity_trip_timegroups_results\n",
    "    sql = \"\"\"select *\n",
    "from defined_intervals\n",
    "order by from_time\"\"\"\n",
    "    \n",
    "    #database connection\n",
    "\n",
    "    try:\n",
    "        sshtunnel.SSH_TIMEOUT = 10.0\n",
    "        with sshtunnel.SSHTunnelForwarder(\n",
    "                ('3.83.88.154', 22),\n",
    "                ssh_username='ec2-user',\n",
    "                #CHANGE PATH TO rds-example.cer\n",
    "                ssh_pkey='/Users/lauraforerocamacho/Downloads/rds-example.cer',\n",
    "                remote_bind_address=('stib-mivb.cjo3cnpt9pci.us-east-1.rds.amazonaws.com', 5432)\n",
    "        ) as tunnel:\n",
    "                conn = psycopg2.connect(\n",
    "                        host='127.0.0.1',\n",
    "                        port=tunnel.local_bind_port,     \n",
    "                        database=\"stibmivbdb\",\n",
    "                        user=\"postgres\",\n",
    "                        password=\"stib-mivb-db1\")\n",
    "\n",
    "                cur = conn.cursor()\n",
    "                #perform sql and write result to dataframe\n",
    "                cur.execute(sql)\n",
    "                field_names = [i[0] for i in cur.description]\n",
    "                query_results = pd.DataFrame(cur.fetchall(),columns=field_names)\n",
    "                #close connection\n",
    "                cur.close()\n",
    "                \n",
    "                return query_results\n",
    "    except Exception as e:\n",
    "            print(e)"
   ]
  },
  {
   "cell_type": "code",
   "execution_count": 4,
   "metadata": {},
   "outputs": [],
   "source": [
    "data=get_data_regularity()\n",
    "data=data.dropna()"
   ]
  },
  {
   "cell_type": "code",
   "execution_count": 5,
   "metadata": {},
   "outputs": [],
   "source": [
    "intervals=get_defined_intervals()"
   ]
  },
  {
   "cell_type": "code",
   "execution_count": 6,
   "metadata": {},
   "outputs": [
    {
     "data": {
      "text/html": [
       "<div>\n",
       "<style scoped>\n",
       "    .dataframe tbody tr th:only-of-type {\n",
       "        vertical-align: middle;\n",
       "    }\n",
       "\n",
       "    .dataframe tbody tr th {\n",
       "        vertical-align: top;\n",
       "    }\n",
       "\n",
       "    .dataframe thead th {\n",
       "        text-align: right;\n",
       "    }\n",
       "</style>\n",
       "<table border=\"1\" class=\"dataframe\">\n",
       "  <thead>\n",
       "    <tr style=\"text-align: right;\">\n",
       "      <th></th>\n",
       "      <th>from_time</th>\n",
       "      <th>to_time</th>\n",
       "    </tr>\n",
       "  </thead>\n",
       "  <tbody>\n",
       "    <tr>\n",
       "      <th>0</th>\n",
       "      <td>2021-09-01 00:00:00</td>\n",
       "      <td>2021-09-01 00:30:00</td>\n",
       "    </tr>\n",
       "    <tr>\n",
       "      <th>1</th>\n",
       "      <td>2021-09-01 00:30:00</td>\n",
       "      <td>2021-09-01 01:00:00</td>\n",
       "    </tr>\n",
       "    <tr>\n",
       "      <th>2</th>\n",
       "      <td>2021-09-01 01:00:00</td>\n",
       "      <td>2021-09-01 01:30:00</td>\n",
       "    </tr>\n",
       "    <tr>\n",
       "      <th>3</th>\n",
       "      <td>2021-09-01 01:30:00</td>\n",
       "      <td>2021-09-01 02:00:00</td>\n",
       "    </tr>\n",
       "    <tr>\n",
       "      <th>4</th>\n",
       "      <td>2021-09-01 02:00:00</td>\n",
       "      <td>2021-09-01 02:30:00</td>\n",
       "    </tr>\n",
       "  </tbody>\n",
       "</table>\n",
       "</div>"
      ],
      "text/plain": [
       "            from_time             to_time\n",
       "0 2021-09-01 00:00:00 2021-09-01 00:30:00\n",
       "1 2021-09-01 00:30:00 2021-09-01 01:00:00\n",
       "2 2021-09-01 01:00:00 2021-09-01 01:30:00\n",
       "3 2021-09-01 01:30:00 2021-09-01 02:00:00\n",
       "4 2021-09-01 02:00:00 2021-09-01 02:30:00"
      ]
     },
     "execution_count": 6,
     "metadata": {},
     "output_type": "execute_result"
    }
   ],
   "source": [
    "intervals.head()"
   ]
  },
  {
   "cell_type": "code",
   "execution_count": 7,
   "metadata": {},
   "outputs": [],
   "source": [
    "intervals[\"data\"]=None"
   ]
  },
  {
   "cell_type": "code",
   "execution_count": 8,
   "metadata": {},
   "outputs": [
    {
     "data": {
      "text/html": [
       "<div>\n",
       "<style scoped>\n",
       "    .dataframe tbody tr th:only-of-type {\n",
       "        vertical-align: middle;\n",
       "    }\n",
       "\n",
       "    .dataframe tbody tr th {\n",
       "        vertical-align: top;\n",
       "    }\n",
       "\n",
       "    .dataframe thead th {\n",
       "        text-align: right;\n",
       "    }\n",
       "</style>\n",
       "<table border=\"1\" class=\"dataframe\">\n",
       "  <thead>\n",
       "    <tr style=\"text-align: right;\">\n",
       "      <th></th>\n",
       "      <th>route_id</th>\n",
       "      <th>route_short_name</th>\n",
       "      <th>stop_id</th>\n",
       "      <th>direction_id</th>\n",
       "      <th>from_date_time</th>\n",
       "      <th>to_date_time</th>\n",
       "      <th>from_time</th>\n",
       "      <th>to_time</th>\n",
       "      <th>from_date</th>\n",
       "      <th>to_date</th>\n",
       "      <th>...</th>\n",
       "      <th>thursday</th>\n",
       "      <th>friday</th>\n",
       "      <th>saturday</th>\n",
       "      <th>sunday</th>\n",
       "      <th>route_type</th>\n",
       "      <th>waiting_time_real</th>\n",
       "      <th>waiting_time_scheduled</th>\n",
       "      <th>ewt</th>\n",
       "      <th>ewt_minutes</th>\n",
       "      <th>ewt_category</th>\n",
       "    </tr>\n",
       "  </thead>\n",
       "  <tbody>\n",
       "    <tr>\n",
       "      <th>5</th>\n",
       "      <td>2</td>\n",
       "      <td>1</td>\n",
       "      <td>8011</td>\n",
       "      <td>1</td>\n",
       "      <td>2021-09-01 05:48:57</td>\n",
       "      <td>2021-09-17 20:24:07</td>\n",
       "      <td>05:48:57</td>\n",
       "      <td>20:24:07</td>\n",
       "      <td>2021-09-01</td>\n",
       "      <td>2021-09-17</td>\n",
       "      <td>...</td>\n",
       "      <td>1</td>\n",
       "      <td>1</td>\n",
       "      <td>0</td>\n",
       "      <td>0</td>\n",
       "      <td>1</td>\n",
       "      <td>232.871609</td>\n",
       "      <td>39.160125</td>\n",
       "      <td>193.711484</td>\n",
       "      <td>3.228525</td>\n",
       "      <td>0-4MIN</td>\n",
       "    </tr>\n",
       "    <tr>\n",
       "      <th>6</th>\n",
       "      <td>2</td>\n",
       "      <td>1</td>\n",
       "      <td>8011</td>\n",
       "      <td>1</td>\n",
       "      <td>2021-09-01 20:34:07</td>\n",
       "      <td>2021-09-17 23:48:53</td>\n",
       "      <td>20:34:07</td>\n",
       "      <td>23:48:53</td>\n",
       "      <td>2021-09-01</td>\n",
       "      <td>2021-09-17</td>\n",
       "      <td>...</td>\n",
       "      <td>1</td>\n",
       "      <td>1</td>\n",
       "      <td>0</td>\n",
       "      <td>0</td>\n",
       "      <td>1</td>\n",
       "      <td>410.917755</td>\n",
       "      <td>145.023148</td>\n",
       "      <td>265.894607</td>\n",
       "      <td>4.431577</td>\n",
       "      <td>4-8MIN</td>\n",
       "    </tr>\n",
       "    <tr>\n",
       "      <th>7</th>\n",
       "      <td>2</td>\n",
       "      <td>1</td>\n",
       "      <td>8011</td>\n",
       "      <td>1</td>\n",
       "      <td>2021-09-04 06:44:23</td>\n",
       "      <td>2021-09-18 23:48:53</td>\n",
       "      <td>06:44:23</td>\n",
       "      <td>23:48:53</td>\n",
       "      <td>2021-09-04</td>\n",
       "      <td>2021-09-18</td>\n",
       "      <td>...</td>\n",
       "      <td>0</td>\n",
       "      <td>0</td>\n",
       "      <td>1</td>\n",
       "      <td>0</td>\n",
       "      <td>1</td>\n",
       "      <td>259.528527</td>\n",
       "      <td>57.318244</td>\n",
       "      <td>202.210283</td>\n",
       "      <td>3.370171</td>\n",
       "      <td>0-4MIN</td>\n",
       "    </tr>\n",
       "    <tr>\n",
       "      <th>8</th>\n",
       "      <td>2</td>\n",
       "      <td>1</td>\n",
       "      <td>8011</td>\n",
       "      <td>1</td>\n",
       "      <td>2021-09-12 08:42:04</td>\n",
       "      <td>2021-09-12 23:48:53</td>\n",
       "      <td>08:42:04</td>\n",
       "      <td>23:48:53</td>\n",
       "      <td>2021-09-12</td>\n",
       "      <td>2021-09-12</td>\n",
       "      <td>...</td>\n",
       "      <td>0</td>\n",
       "      <td>0</td>\n",
       "      <td>1</td>\n",
       "      <td>0</td>\n",
       "      <td>1</td>\n",
       "      <td>286.690589</td>\n",
       "      <td>54.203186</td>\n",
       "      <td>232.487403</td>\n",
       "      <td>3.874790</td>\n",
       "      <td>0-4MIN</td>\n",
       "    </tr>\n",
       "    <tr>\n",
       "      <th>9</th>\n",
       "      <td>2</td>\n",
       "      <td>1</td>\n",
       "      <td>8011</td>\n",
       "      <td>1</td>\n",
       "      <td>2021-09-19 06:44:23</td>\n",
       "      <td>2021-09-19 23:48:53</td>\n",
       "      <td>06:44:23</td>\n",
       "      <td>23:48:53</td>\n",
       "      <td>2021-09-19</td>\n",
       "      <td>2021-09-19</td>\n",
       "      <td>...</td>\n",
       "      <td>0</td>\n",
       "      <td>0</td>\n",
       "      <td>1</td>\n",
       "      <td>0</td>\n",
       "      <td>1</td>\n",
       "      <td>308.359592</td>\n",
       "      <td>43.434227</td>\n",
       "      <td>264.925365</td>\n",
       "      <td>4.415423</td>\n",
       "      <td>4-8MIN</td>\n",
       "    </tr>\n",
       "  </tbody>\n",
       "</table>\n",
       "<p>5 rows × 23 columns</p>\n",
       "</div>"
      ],
      "text/plain": [
       "   route_id  route_short_name  stop_id  direction_id      from_date_time  \\\n",
       "5         2                 1     8011             1 2021-09-01 05:48:57   \n",
       "6         2                 1     8011             1 2021-09-01 20:34:07   \n",
       "7         2                 1     8011             1 2021-09-04 06:44:23   \n",
       "8         2                 1     8011             1 2021-09-12 08:42:04   \n",
       "9         2                 1     8011             1 2021-09-19 06:44:23   \n",
       "\n",
       "         to_date_time from_time   to_time   from_date     to_date  ...  \\\n",
       "5 2021-09-17 20:24:07  05:48:57  20:24:07  2021-09-01  2021-09-17  ...   \n",
       "6 2021-09-17 23:48:53  20:34:07  23:48:53  2021-09-01  2021-09-17  ...   \n",
       "7 2021-09-18 23:48:53  06:44:23  23:48:53  2021-09-04  2021-09-18  ...   \n",
       "8 2021-09-12 23:48:53  08:42:04  23:48:53  2021-09-12  2021-09-12  ...   \n",
       "9 2021-09-19 23:48:53  06:44:23  23:48:53  2021-09-19  2021-09-19  ...   \n",
       "\n",
       "   thursday  friday  saturday  sunday  route_type  waiting_time_real  \\\n",
       "5         1       1         0       0           1         232.871609   \n",
       "6         1       1         0       0           1         410.917755   \n",
       "7         0       0         1       0           1         259.528527   \n",
       "8         0       0         1       0           1         286.690589   \n",
       "9         0       0         1       0           1         308.359592   \n",
       "\n",
       "   waiting_time_scheduled         ewt  ewt_minutes  ewt_category  \n",
       "5               39.160125  193.711484     3.228525        0-4MIN  \n",
       "6              145.023148  265.894607     4.431577        4-8MIN  \n",
       "7               57.318244  202.210283     3.370171        0-4MIN  \n",
       "8               54.203186  232.487403     3.874790        0-4MIN  \n",
       "9               43.434227  264.925365     4.415423        4-8MIN  \n",
       "\n",
       "[5 rows x 23 columns]"
      ]
     },
     "execution_count": 8,
     "metadata": {},
     "output_type": "execute_result"
    }
   ],
   "source": [
    "data.head()"
   ]
  },
  {
   "cell_type": "code",
   "execution_count": 9,
   "metadata": {},
   "outputs": [
    {
     "data": {
      "text/html": [
       "<div>\n",
       "<style scoped>\n",
       "    .dataframe tbody tr th:only-of-type {\n",
       "        vertical-align: middle;\n",
       "    }\n",
       "\n",
       "    .dataframe tbody tr th {\n",
       "        vertical-align: top;\n",
       "    }\n",
       "\n",
       "    .dataframe thead th {\n",
       "        text-align: right;\n",
       "    }\n",
       "</style>\n",
       "<table border=\"1\" class=\"dataframe\">\n",
       "  <thead>\n",
       "    <tr style=\"text-align: right;\">\n",
       "      <th></th>\n",
       "      <th>from_time</th>\n",
       "      <th>to_time</th>\n",
       "      <th>data</th>\n",
       "    </tr>\n",
       "  </thead>\n",
       "  <tbody>\n",
       "    <tr>\n",
       "      <th>0</th>\n",
       "      <td>2021-09-01 00:00:00</td>\n",
       "      <td>2021-09-01 00:30:00</td>\n",
       "      <td>None</td>\n",
       "    </tr>\n",
       "    <tr>\n",
       "      <th>1</th>\n",
       "      <td>2021-09-01 00:30:00</td>\n",
       "      <td>2021-09-01 01:00:00</td>\n",
       "      <td>None</td>\n",
       "    </tr>\n",
       "    <tr>\n",
       "      <th>2</th>\n",
       "      <td>2021-09-01 01:00:00</td>\n",
       "      <td>2021-09-01 01:30:00</td>\n",
       "      <td>None</td>\n",
       "    </tr>\n",
       "    <tr>\n",
       "      <th>3</th>\n",
       "      <td>2021-09-01 01:30:00</td>\n",
       "      <td>2021-09-01 02:00:00</td>\n",
       "      <td>None</td>\n",
       "    </tr>\n",
       "    <tr>\n",
       "      <th>4</th>\n",
       "      <td>2021-09-01 02:00:00</td>\n",
       "      <td>2021-09-01 02:30:00</td>\n",
       "      <td>None</td>\n",
       "    </tr>\n",
       "  </tbody>\n",
       "</table>\n",
       "</div>"
      ],
      "text/plain": [
       "            from_time             to_time  data\n",
       "0 2021-09-01 00:00:00 2021-09-01 00:30:00  None\n",
       "1 2021-09-01 00:30:00 2021-09-01 01:00:00  None\n",
       "2 2021-09-01 01:00:00 2021-09-01 01:30:00  None\n",
       "3 2021-09-01 01:30:00 2021-09-01 02:00:00  None\n",
       "4 2021-09-01 02:00:00 2021-09-01 02:30:00  None"
      ]
     },
     "execution_count": 9,
     "metadata": {},
     "output_type": "execute_result"
    }
   ],
   "source": [
    "intervals.head()"
   ]
  },
  {
   "cell_type": "code",
   "execution_count": 10,
   "metadata": {},
   "outputs": [],
   "source": [
    "data[\"ewt\"]= data[\"ewt\"].astype(int)\n"
   ]
  },
  {
   "cell_type": "code",
   "execution_count": 11,
   "metadata": {},
   "outputs": [],
   "source": [
    "data[\"from_date_time\"]= pd.to_datetime(data[\"from_date_time\"])\n",
    "data[\"to_date_time\"]= pd.to_datetime(data[\"to_date_time\"])"
   ]
  },
  {
   "cell_type": "code",
   "execution_count": 12,
   "metadata": {},
   "outputs": [],
   "source": [
    "data=data[data[\"route_id\"]==56]"
   ]
  },
  {
   "cell_type": "code",
   "execution_count": 13,
   "metadata": {},
   "outputs": [],
   "source": [
    "intervals_data=[]\n",
    "for i in range(0, len(intervals)):\n",
    "    c_interval=intervals.iloc[i].to_dict()\n",
    "    temp=[]\n",
    "    find_elements_range=data[(data[\"from_date_time\"].dt.time<=c_interval[\"from_time\"].time())&(c_interval[\"to_time\"].time()<=data[\"to_date_time\"].dt.time)&(data[\"from_date_time\"].dt.date<=c_interval[\"from_time\"].date())&(c_interval[\"to_time\"].date()<=data[\"to_date_time\"].dt.date)&(data[\"ewt\"]>(6*60))]\n",
    "    data_text=None\n",
    "    if(len(find_elements_range)>0):\n",
    "        temp=find_elements_range[\"stop_id\"].unique()\n",
    "        data_text=' '.join(str(item) for item in temp)\n",
    "    intervals_data.append(data_text)\n",
    "intervals[\"data\"]=intervals_data"
   ]
  },
  {
   "cell_type": "code",
   "execution_count": 14,
   "metadata": {},
   "outputs": [],
   "source": [
    "intervals=intervals.dropna()"
   ]
  },
  {
   "cell_type": "code",
   "execution_count": 15,
   "metadata": {},
   "outputs": [],
   "source": [
    "intervals[\"from_date\"]=intervals[\"from_time\"].dt.date\n",
    "intervals_data_final=intervals.groupby(\"from_date\")[\"data\"].apply(list).reset_index(name='pattern')"
   ]
  },
  {
   "cell_type": "code",
   "execution_count": 19,
   "metadata": {},
   "outputs": [
    {
     "data": {
      "text/plain": [
       "{'from_date': datetime.date(2021, 9, 2),\n",
       " 'pattern': ['1030 2088 2237 2238 2239 2269 2271 2587 2831 2898 6459']}"
      ]
     },
     "execution_count": 19,
     "metadata": {},
     "output_type": "execute_result"
    }
   ],
   "source": [
    "intervals_data_final.iloc[1].to_dict()"
   ]
  },
  {
   "cell_type": "code",
   "execution_count": 20,
   "metadata": {},
   "outputs": [
    {
     "data": {
      "text/plain": [
       "{'from_date': datetime.date(2021, 9, 3),\n",
       " 'pattern': ['1030 2088 2089 2237 2238 2239 2269 2271 2587 5740 5741 5742 5906 5910 6123 6459 6461 9754 9755',\n",
       "  '1030 1083 2088 2089 2207 2237 2238 2239 2269 2271 2587 2831 5740 5741 5742 5906 5910 6123 6459 6461 9025 9754 9755',\n",
       "  '1030 1083 2088 2089 2207 2237 2238 2239 2269 2271 2587 2831 5740 5741 5742 5906 5910 6123 6459 6461 9025 9754 9755',\n",
       "  '1030 1083 2088 2089 2207 2237 2238 2239 2269 2271 2587 2831 5740 5741 5742 5906 5910 6123 6459 6461 9025 9754 9755',\n",
       "  '1030 1083 2088 2089 2207 2237 2238 2239 2269 2271 2587 2831 5740 5741 5742 5906 5910 6123 6459 6461 9025 9754 9755',\n",
       "  '1030 1083 2088 2089 2207 2237 2238 2239 2269 2271 2587 2831 5740 5741 5742 5906 5910 6123 6459 6461 9025 9754 9755',\n",
       "  '1030 1083 2088 2237 2238 2239 2269 2271 2587 2831 6459 9025',\n",
       "  '2089 2207 5740 5741 5742 5905 5906 5908 5913 6123 6461 9754 9755 9756',\n",
       "  '1083 1904 2089 2207 2831 5740 5741 5742 5905 5906 5908 5913 6123 6461 9025 9754 9755 9756',\n",
       "  '1083 1904 2089 2207 2831 5740 5741 5742 5905 5906 5908 5913 6123 6461 9025 9754 9755 9756',\n",
       "  '1083 1904 2089 2207 9025',\n",
       "  '1030 1083 1904 2088 2089 2207 2237 2238 2239 2269 2271 2587 2831 2898 5740 5741 5742 5905 5906 5908 5910 5913 6123 6459 6461 9025 9754 9755 9756']}"
      ]
     },
     "execution_count": 20,
     "metadata": {},
     "output_type": "execute_result"
    }
   ],
   "source": [
    "intervals_data_final.iloc[2].to_dict()"
   ]
  },
  {
   "cell_type": "code",
   "execution_count": 22,
   "metadata": {},
   "outputs": [],
   "source": [
    "final_data=[]\n",
    "with open('./data.txt', 'w') as f:\n",
    "    for i in range(0, len(intervals_data_final)):\n",
    "        c_interval=intervals_data_final.iloc[i].to_dict()\n",
    "        list_data=c_interval[\"pattern\"]\n",
    "        linea=' -1 '.join(str(item) for item in list_data)\n",
    "        linea=linea+\" -2\"\n",
    "        f.write(linea)\n",
    "        f.write('\\n')\n",
    "      #np.array(intervals_data_final[\"pattern\"][i]).tostring()"
   ]
  },
  {
   "cell_type": "code",
   "execution_count": 35,
   "metadata": {},
   "outputs": [
    {
     "name": "stdout",
     "output_type": "stream",
     "text": [
      "Collecting spmf\n",
      "  Downloading spmf-1.4-py3-none-any.whl (17 kB)\n",
      "Installing collected packages: spmf\n",
      "Successfully installed spmf-1.4\n"
     ]
    }
   ],
   "source": [
    "!pip3 install spmf --user"
   ]
  },
  {
   "cell_type": "code",
   "execution_count": 1,
   "metadata": {},
   "outputs": [],
   "source": [
    "import os\n",
    "import spmf\n",
    "path = os.path.abspath(spmf.__file__)"
   ]
  },
  {
   "cell_type": "code",
   "execution_count": 2,
   "metadata": {},
   "outputs": [
    {
     "data": {
      "text/plain": [
       "'/Users/lauraforerocamacho/Library/Python/3.8/lib/python/site-packages/spmf/__init__.py'"
      ]
     },
     "execution_count": 2,
     "metadata": {},
     "output_type": "execute_result"
    }
   ],
   "source": [
    "path"
   ]
  },
  {
   "cell_type": "code",
   "execution_count": 24,
   "metadata": {},
   "outputs": [
    {
     "name": "stderr",
     "output_type": "stream",
     "text": [
      "java.io.IOException: No space left on device\n",
      "\tat java.base/java.io.FileOutputStream.writeBytes(Native Method)\n",
      "\tat java.base/java.io.FileOutputStream.write(FileOutputStream.java:349)\n",
      "\tat java.base/sun.nio.cs.StreamEncoder.writeBytes(StreamEncoder.java:234)\n",
      "\tat java.base/sun.nio.cs.StreamEncoder.implWrite(StreamEncoder.java:304)\n",
      "\tat java.base/sun.nio.cs.StreamEncoder.implWrite(StreamEncoder.java:282)\n",
      "\tat java.base/sun.nio.cs.StreamEncoder.write(StreamEncoder.java:132)\n",
      "\tat java.base/java.io.OutputStreamWriter.write(OutputStreamWriter.java:205)\n",
      "\tat java.base/java.io.BufferedWriter.flushBuffer(BufferedWriter.java:120)\n",
      "\tat java.base/java.io.BufferedWriter.write(BufferedWriter.java:233)\n",
      "\tat java.base/java.io.Writer.write(Writer.java:249)\n",
      "\tat ca.pfv.spmf.algorithms.sequentialpatterns.BIDE_and_prefixspan_with_strings.AlgoPrefixSpan_with_Strings.savePattern(AlgoPrefixSpan_with_Strings.java:210)\n",
      "\tat ca.pfv.spmf.algorithms.sequentialpatterns.BIDE_and_prefixspan_with_strings.AlgoPrefixSpan_with_Strings.recursion(AlgoPrefixSpan_with_Strings.java:325)\n",
      "\tat ca.pfv.spmf.algorithms.sequentialpatterns.BIDE_and_prefixspan_with_strings.AlgoPrefixSpan_with_Strings.recursion(AlgoPrefixSpan_with_Strings.java:327)\n",
      "\tat ca.pfv.spmf.algorithms.sequentialpatterns.BIDE_and_prefixspan_with_strings.AlgoPrefixSpan_with_Strings.recursion(AlgoPrefixSpan_with_Strings.java:327)\n",
      "\tat ca.pfv.spmf.algorithms.sequentialpatterns.BIDE_and_prefixspan_with_strings.AlgoPrefixSpan_with_Strings.recursion(AlgoPrefixSpan_with_Strings.java:327)\n",
      "\tat ca.pfv.spmf.algorithms.sequentialpatterns.BIDE_and_prefixspan_with_strings.AlgoPrefixSpan_with_Strings.recursion(AlgoPrefixSpan_with_Strings.java:327)\n",
      "\tat ca.pfv.spmf.algorithms.sequentialpatterns.BIDE_and_prefixspan_with_strings.AlgoPrefixSpan_with_Strings.recursion(AlgoPrefixSpan_with_Strings.java:327)\n",
      "\tat ca.pfv.spmf.algorithms.sequentialpatterns.BIDE_and_prefixspan_with_strings.AlgoPrefixSpan_with_Strings.recursion(AlgoPrefixSpan_with_Strings.java:327)\n",
      "\tat ca.pfv.spmf.algorithms.sequentialpatterns.BIDE_and_prefixspan_with_strings.AlgoPrefixSpan_with_Strings.recursion(AlgoPrefixSpan_with_Strings.java:327)\n",
      "\tat ca.pfv.spmf.algorithms.sequentialpatterns.BIDE_and_prefixspan_with_strings.AlgoPrefixSpan_with_Strings.recursion(AlgoPrefixSpan_with_Strings.java:327)\n",
      "\tat ca.pfv.spmf.algorithms.sequentialpatterns.BIDE_and_prefixspan_with_strings.AlgoPrefixSpan_with_Strings.recursion(AlgoPrefixSpan_with_Strings.java:327)\n",
      "\tat ca.pfv.spmf.algorithms.sequentialpatterns.BIDE_and_prefixspan_with_strings.AlgoPrefixSpan_with_Strings.recursion(AlgoPrefixSpan_with_Strings.java:327)\n",
      "\tat ca.pfv.spmf.algorithms.sequentialpatterns.BIDE_and_prefixspan_with_strings.AlgoPrefixSpan_with_Strings.recursion(AlgoPrefixSpan_with_Strings.java:327)\n",
      "\tat ca.pfv.spmf.algorithms.sequentialpatterns.BIDE_and_prefixspan_with_strings.AlgoPrefixSpan_with_Strings.recursion(AlgoPrefixSpan_with_Strings.java:327)\n",
      "\tat ca.pfv.spmf.algorithms.sequentialpatterns.BIDE_and_prefixspan_with_strings.AlgoPrefixSpan_with_Strings.recursion(AlgoPrefixSpan_with_Strings.java:327)\n",
      "\tat ca.pfv.spmf.algorithms.sequentialpatterns.BIDE_and_prefixspan_with_strings.AlgoPrefixSpan_with_Strings.recursion(AlgoPrefixSpan_with_Strings.java:327)\n",
      "\tat ca.pfv.spmf.algorithms.sequentialpatterns.BIDE_and_prefixspan_with_strings.AlgoPrefixSpan_with_Strings.recursion(AlgoPrefixSpan_with_Strings.java:327)\n",
      "\tat ca.pfv.spmf.algorithms.sequentialpatterns.BIDE_and_prefixspan_with_strings.AlgoPrefixSpan_with_Strings.recursion(AlgoPrefixSpan_with_Strings.java:327)\n",
      "\tat ca.pfv.spmf.algorithms.sequentialpatterns.BIDE_and_prefixspan_with_strings.AlgoPrefixSpan_with_Strings.recursion(AlgoPrefixSpan_with_Strings.java:327)\n",
      "\tat ca.pfv.spmf.algorithms.sequentialpatterns.BIDE_and_prefixspan_with_strings.AlgoPrefixSpan_with_Strings.recursion(AlgoPrefixSpan_with_Strings.java:327)\n",
      "\tat ca.pfv.spmf.algorithms.sequentialpatterns.BIDE_and_prefixspan_with_strings.AlgoPrefixSpan_with_Strings.recursion(AlgoPrefixSpan_with_Strings.java:327)\n",
      "\tat ca.pfv.spmf.algorithms.sequentialpatterns.BIDE_and_prefixspan_with_strings.AlgoPrefixSpan_with_Strings.recursion(AlgoPrefixSpan_with_Strings.java:327)\n",
      "\tat ca.pfv.spmf.algorithms.sequentialpatterns.BIDE_and_prefixspan_with_strings.AlgoPrefixSpan_with_Strings.prefixSpan(AlgoPrefixSpan_with_Strings.java:169)\n",
      "\tat ca.pfv.spmf.algorithms.sequentialpatterns.BIDE_and_prefixspan_with_strings.AlgoPrefixSpan_with_Strings.runAlgorithm(AlgoPrefixSpan_with_Strings.java:102)\n",
      "\tat ca.pfv.spmf.algorithmmanager.descriptions.DescriptionAlgoPrefixSpanWithStrings.runAlgorithm(DescriptionAlgoPrefixSpanWithStrings.java:70)\n",
      "\tat ca.pfv.spmf.gui.CommandProcessor.runAlgorithm(CommandProcessor.java:251)\n",
      "\tat ca.pfv.spmf.gui.Main.processCommandLineArguments(Main.java:141)\n",
      "\tat ca.pfv.spmf.gui.Main.main(Main.java:62)\n"
     ]
    },
    {
     "name": "stdout",
     "output_type": "stream",
     "text": [
      ">/Users/lauraforerocamacho/Library/Python/3.8/lib/python/site-packages/spmf/spmf.jar\n",
      "An error while trying to run the algorithm. \n",
      " ERROR MESSAGE = java.io.IOException: No space left on device\n",
      "\n"
     ]
    },
    {
     "ename": "",
     "evalue": "",
     "output_type": "error",
     "traceback": [
      "\u001b[1;31mCanceled future for execute_request message before replies were done"
     ]
    },
    {
     "ename": "",
     "evalue": "",
     "output_type": "error",
     "traceback": [
      "\u001b[1;31mThe Kernel crashed while executing code in the the current cell or a previous cell. Please review the code in the cell(s) to identify a possible cause of the failure. Click <a href='https://aka.ms/vscodeJupyterKernelCrash'>here</a> for more info. View Jupyter <a href='command:jupyter.viewOutput'>log</a> for further details."
     ]
    }
   ],
   "source": [
    "from spmf import Spmf\n",
    "\n",
    "spmf= Spmf(\"PrefixSpan_with_strings\", input_filename=\"./data.txt\",output_filename=\"./output.txt\", arguments=[0.7])\n",
    "spmf.run()\n",
    "spmf.to_csv(\"./output.csv\")"
   ]
  }
 ],
 "metadata": {
  "kernelspec": {
   "display_name": "Python 3",
   "language": "python",
   "name": "python3"
  },
  "language_info": {
   "codemirror_mode": {
    "name": "ipython",
    "version": 3
   },
   "file_extension": ".py",
   "mimetype": "text/x-python",
   "name": "python",
   "nbconvert_exporter": "python",
   "pygments_lexer": "ipython3",
   "version": "3.8.9"
  },
  "orig_nbformat": 4,
  "vscode": {
   "interpreter": {
    "hash": "31f2aee4e71d21fbe5cf8b01ff0e069b9275f58929596ceb00d14d90e3e16cd6"
   }
  }
 },
 "nbformat": 4,
 "nbformat_minor": 2
}
