{
 "cells": [
  {
   "cell_type": "markdown",
   "metadata": {},
   "source": [
    "### Creations Graphs"
   ]
  },
  {
   "cell_type": "code",
   "execution_count": 1,
   "metadata": {},
   "outputs": [
    {
     "name": "stdout",
     "output_type": "stream",
     "text": [
      "Requirement already satisfied: psycopg2 in /Users/lauraforerocamacho/Library/Python/3.8/lib/python/site-packages (2.9.5)\n",
      "Collecting sshtunnel\n",
      "  Using cached sshtunnel-0.4.0-py2.py3-none-any.whl (24 kB)\n",
      "Collecting paramiko>=2.7.2\n",
      "  Using cached paramiko-2.12.0-py2.py3-none-any.whl (213 kB)\n",
      "Collecting pynacl>=1.0.1\n",
      "  Using cached PyNaCl-1.5.0-cp36-abi3-macosx_10_10_universal2.whl (349 kB)\n",
      "Collecting bcrypt>=3.1.3\n",
      "  Using cached bcrypt-4.0.1-cp36-abi3-macosx_10_10_universal2.whl (473 kB)\n",
      "Collecting cryptography>=2.5\n",
      "  Using cached cryptography-38.0.3-cp36-abi3-macosx_10_10_x86_64.whl (2.8 MB)\n",
      "Requirement already satisfied: six in /Users/lauraforerocamacho/Library/Python/3.8/lib/python/site-packages (from paramiko>=2.7.2->sshtunnel) (1.16.0)\n",
      "Requirement already satisfied: cffi>=1.12 in /Users/lauraforerocamacho/Library/Python/3.8/lib/python/site-packages (from cryptography>=2.5->paramiko>=2.7.2->sshtunnel) (1.15.1)\n",
      "Requirement already satisfied: pycparser in /Users/lauraforerocamacho/Library/Python/3.8/lib/python/site-packages (from cffi>=1.12->cryptography>=2.5->paramiko>=2.7.2->sshtunnel) (2.21)\n",
      "Installing collected packages: bcrypt, pynacl, cryptography, paramiko, sshtunnel\n",
      "\u001b[33m  WARNING: The script sshtunnel is installed in '/Users/lauraforerocamacho/Library/Python/3.8/bin' which is not on PATH.\n",
      "  Consider adding this directory to PATH or, if you prefer to suppress this warning, use --no-warn-script-location.\u001b[0m\u001b[33m\n",
      "\u001b[0mSuccessfully installed bcrypt-4.0.1 cryptography-38.0.3 paramiko-2.12.0 pynacl-1.5.0 sshtunnel-0.4.0\n"
     ]
    }
   ],
   "source": [
    "!pip3 install psycopg2 --user\n",
    "!pip3 install sshtunnel --user"
   ]
  },
  {
   "cell_type": "code",
   "execution_count": 2,
   "metadata": {},
   "outputs": [],
   "source": [
    "import psycopg2\n",
    "import sshtunnel \n",
    "import pandas as pd\n",
    "import psycopg2.extras\n",
    "\n",
    "\n",
    "def get_data(c):\n",
    "        pd.set_option(\"display.max.columns\", None)\n",
    "        #\"agency\", \"calendar\",\"calendar_dates\", \"routes\", \"shapes\"\n",
    "        list_tables=[\"stop_times\",\"stops\", \"translations\",\"trips\",\"vehicleposition\" ]\n",
    "        #Get stats and graphs for each table\n",
    "        for i in list_tables:\n",
    "                c.execute(f\"SELECT * FROM {i}\")\n",
    "                data = c.fetchall()\n",
    "                df=pd.DataFrame([i.copy() for i in data])\n",
    "                df2=pd.DataFrame(df.isna().sum(), columns=[ \"count_missing_values\"])\n",
    "                df2.to_csv(\"./dataPreparation/stadistics/missing_values_\"+i+\".csv\")\n",
    "\n",
    "                df3=pd.DataFrame(df.describe())\n",
    "                df3.to_csv(\"./dataPreparation/stadistics/describe_num_\"+i+\".csv\")\n",
    "\n",
    "                df4=pd.DataFrame(df.describe(include=object))\n",
    "                df4.to_csv(\"./dataPreparation/stadistics/describe_str_\"+i+\".csv\")\n",
    "\n",
    "                fig=df.isna().sum().reset_index(name=\"missing_values\").plot.bar(x='index', y='missing_values', rot=45) \n",
    "                fig.get_figure().savefig(\"./dataPreparation/stadistics/graph_missing_values_\"+i+\".png\")\n",
    "\n",
    "\n",
    "try:\n",
    "        sshtunnel.SSH_TIMEOUT = 10.0\n",
    "        with sshtunnel.SSHTunnelForwarder(\n",
    "                ('3.83.88.154', 22),\n",
    "                ssh_username='ec2-user',\n",
    "                #CHANGE PATH TO rds-example.cer\n",
    "                ssh_pkey='/Users/lauraforerocamacho/Downloads/rds-example.cer',\n",
    "                remote_bind_address=('stib-mivb.cjo3cnpt9pci.us-east-1.rds.amazonaws.com', 5432)\n",
    "        ) as tunnel:\n",
    "                conn = psycopg2.connect(\n",
    "                        host='127.0.0.1',\n",
    "                        port=tunnel.local_bind_port,     \n",
    "                        database=\"stibmivbdb\",\n",
    "                        user=\"postgres\",\n",
    "                        password=\"stib-mivb-db1\")\n",
    "\n",
    "                c = conn.cursor(cursor_factory=psycopg2.extras.DictCursor)\n",
    "                get_data(c)\n",
    "except Exception as e:\n",
    "        print(e)\n",
    "\n",
    "\n",
    "\n",
    "\n"
   ]
  },
  {
   "cell_type": "markdown",
   "metadata": {},
   "source": [
    "### Connect with ssh \n",
    "ssh -N -L 1234:stib-mivb.cjo3cnpt9pci.us-east-1.rds.amazonaws.com:5432 ec2-user@3.83.88.154 -i /Users/lauraforerocamacho/Downloads/rds-example.cer\n",
    "\n"
   ]
  }
 ],
 "metadata": {
  "kernelspec": {
   "display_name": "Python 3.8.9 64-bit",
   "language": "python",
   "name": "python3"
  },
  "language_info": {
   "codemirror_mode": {
    "name": "ipython",
    "version": 3
   },
   "file_extension": ".py",
   "mimetype": "text/x-python",
   "name": "python",
   "nbconvert_exporter": "python",
   "pygments_lexer": "ipython3",
   "version": "3.8.9"
  },
  "orig_nbformat": 4,
  "vscode": {
   "interpreter": {
    "hash": "31f2aee4e71d21fbe5cf8b01ff0e069b9275f58929596ceb00d14d90e3e16cd6"
   }
  }
 },
 "nbformat": 4,
 "nbformat_minor": 2
}
