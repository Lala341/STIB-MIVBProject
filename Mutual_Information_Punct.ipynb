{
 "cells": [
  {
   "cell_type": "code",
   "execution_count": 1,
   "metadata": {},
   "outputs": [],
   "source": [
    "import numpy as np\n",
    "import pandas as pd\n",
    "import psycopg2\n",
    "import sshtunnel \n",
    "from datetime import date, time,datetime, timedelta\n",
    "\n",
    "from sklearn import preprocessing\n",
    "from sklearn.preprocessing import LabelEncoder\n",
    "from sklearn.preprocessing import OrdinalEncoder\n",
    "from sklearn.model_selection import train_test_split\n",
    "from sklearn.feature_selection import SelectKBest\n",
    "from sklearn.feature_selection import chi2\n",
    "from sklearn.feature_selection import mutual_info_classif\n",
    "from matplotlib import pyplot"
   ]
  },
  {
   "cell_type": "code",
   "execution_count": 2,
   "metadata": {},
   "outputs": [],
   "source": [
    "def execute_querie_test(c,sql):\n",
    "        c.execute(sql)\n",
    "        #db_list = c.fetchmany()\n",
    "        field_names = [i[0] for i in c.description]\n",
    "        query_results = pd.DataFrame(c.fetchall(),columns=field_names)\n",
    "        \n",
    "        return query_results\n",
    "        #print(db_list)"
   ]
  },
  {
   "cell_type": "code",
   "execution_count": 3,
   "metadata": {},
   "outputs": [],
   "source": [
    "def ssh_connect(sql):\n",
    "    try:\n",
    "        sshtunnel.SSH_TIMEOUT = 10.0\n",
    "\n",
    "        with sshtunnel.SSHTunnelForwarder(\n",
    "                ('3.83.88.154', 22),\n",
    "                ssh_username='ec2-user',\n",
    "                #CHANGE PATH TO rds-example.cer\n",
    "                ssh_pkey='C:/Users/Maren/Documents/rds-example.cer',\n",
    "                remote_bind_address=('stib-mivb.cjo3cnpt9pci.us-east-1.rds.amazonaws.com', 5432)\n",
    "        ) as tunnel:\n",
    "            conn = psycopg2.connect(\n",
    "                    host='127.0.0.1',\n",
    "                    port=tunnel.local_bind_port,     \n",
    "                    database=\"stibmivbdb\",\n",
    "                    user=\"postgres\",\n",
    "                    password=\"stib-mivb-db1\"\n",
    "            )\n",
    "\n",
    "            c = conn.cursor()\n",
    "\n",
    "            #EXECUTE QUERY IN DB TO TEST\n",
    "            query_results = execute_querie_test(c,sql)\n",
    "\n",
    "            c.close()\n",
    "            return query_results\n",
    "    except Exception as e:\n",
    "        print(e)"
   ]
  },
  {
   "cell_type": "code",
   "execution_count": 4,
   "metadata": {},
   "outputs": [],
   "source": [
    "#convert string to time object (deal with the times greater 23)\n",
    "def getTime(time):\n",
    "    hour = time[0:2]\n",
    "    \n",
    "    #check for times with hours > 23\n",
    "    if int(hour) > 23:\n",
    "        time_str = time\n",
    "        new_time = time_str[0:2].replace(hour,str(0) + str(int(hour)-24)) + time_str[2:]\n",
    "        c_time = datetime.strptime(new_time, '%H:%M:%S').time()\n",
    "    else:\n",
    "        c_time = datetime.strptime(time, '%H:%M:%S').time()\n",
    "    \n",
    "    \n",
    "    return c_time"
   ]
  },
  {
   "cell_type": "code",
   "execution_count": 5,
   "metadata": {},
   "outputs": [],
   "source": [
    "#if time is higher than 24:00 higher the date\n",
    "def getDate(time,date):\n",
    "    hour = time[0:2]\n",
    "    #date = datetime.strptime(date, \"%Y-%m-%d\")\n",
    "    #check for times with hours > 23\n",
    "    if int(hour) > 23:\n",
    "        date = date + timedelta(days=1)\n",
    "        \n",
    "    return date"
   ]
  },
  {
   "cell_type": "code",
   "execution_count": 37,
   "metadata": {},
   "outputs": [],
   "source": [
    "def getTimeGroup(time):\n",
    "    end_time = datetime.strptime('02:00:00', '%H:%M:%S')\n",
    "    #end_time = start_time + timedelta(minutes=30)\n",
    "    time_id = 1\n",
    "    \n",
    "    if time <= datetime.strptime('22:00:00', '%H:%M:%S').time():\n",
    "    \n",
    "        while time > end_time.time():\n",
    "            end_time = end_time + timedelta(minutes=120)\n",
    "            time_id = time_id + 1\n",
    "    else:\n",
    "        time_id = 12\n",
    "            \n",
    "    return time_id\n"
   ]
  },
  {
   "cell_type": "code",
   "execution_count": 20,
   "metadata": {},
   "outputs": [],
   "source": [
    "def create_dfStop(stops):\n",
    "    df_stops = pd.DataFrame(stops,columns=['stop_id'])\n",
    "    df_stops['stop_key'] = range(1, len(df_stops) + 1)\n",
    "    \n",
    "    return df_stops"
   ]
  },
  {
   "cell_type": "code",
   "execution_count": 30,
   "metadata": {},
   "outputs": [],
   "source": [
    "def prepare_inputs(X,X_train, X_test):\n",
    "    oe = OrdinalEncoder()\n",
    "    oe.fit(X)\n",
    "    X_train_enc = oe.transform(X_train)\n",
    "    X_test_enc = oe.transform(X_test)\n",
    "    return X_train_enc, X_test_enc"
   ]
  },
  {
   "cell_type": "code",
   "execution_count": 31,
   "metadata": {},
   "outputs": [],
   "source": [
    "def prepare_targets(y,y_train, y_test):\n",
    "    le = LabelEncoder()\n",
    "    le.fit(y_train)\n",
    "    y_train_enc = le.transform(y_train)\n",
    "    y_test_enc = le.transform(y_test)\n",
    "    return y_train_enc, y_test_enc"
   ]
  },
  {
   "cell_type": "code",
   "execution_count": 32,
   "metadata": {},
   "outputs": [],
   "source": [
    "# feature selection\n",
    "def select_features(X_train, y_train, X_test):\n",
    "    fs = SelectKBest(score_func=mutual_info_classif, k='all')\n",
    "    fs.fit(X_train, y_train)\n",
    "    X_train_fs = fs.transform(X_train)\n",
    "    X_test_fs = fs.transform(X_test)\n",
    "    return X_train_fs, X_test_fs, fs"
   ]
  },
  {
   "cell_type": "code",
   "execution_count": 68,
   "metadata": {},
   "outputs": [],
   "source": [
    "#get samples\n",
    "sql = \"\"\"(SELECT route_id,route_type,stop_id,date,time,delay FROM punctuality_new \n",
    "where route_type = 0 and delay >= 0 \n",
    "and delay != 1 order by RANDOM() LIMIT 300000)\n",
    "UNION\n",
    "(SELECT route_id,route_type,stop_id,date,time,delay FROM punctuality_new \n",
    "where route_type = 1 and delay >= 0 \n",
    "and delay != 1 order by RANDOM() LIMIT 300000)\n",
    "Union\n",
    "(SELECT route_id,route_type,stop_id,date,time,delay FROM punctuality_new \n",
    "where route_type = 3 and delay >= 0 \n",
    "and delay != 1 order by RANDOM() LIMIT 300000)\"\"\"\n",
    "\n",
    "df_db = ssh_connect(sql)"
   ]
  },
  {
   "cell_type": "code",
   "execution_count": 69,
   "metadata": {},
   "outputs": [
    {
     "data": {
      "text/html": [
       "<div>\n",
       "<style scoped>\n",
       "    .dataframe tbody tr th:only-of-type {\n",
       "        vertical-align: middle;\n",
       "    }\n",
       "\n",
       "    .dataframe tbody tr th {\n",
       "        vertical-align: top;\n",
       "    }\n",
       "\n",
       "    .dataframe thead th {\n",
       "        text-align: right;\n",
       "    }\n",
       "</style>\n",
       "<table border=\"1\" class=\"dataframe\">\n",
       "  <thead>\n",
       "    <tr style=\"text-align: right;\">\n",
       "      <th></th>\n",
       "      <th>route_id</th>\n",
       "      <th>route_type</th>\n",
       "      <th>stop_id</th>\n",
       "      <th>date</th>\n",
       "      <th>time</th>\n",
       "      <th>delay</th>\n",
       "      <th>time_new</th>\n",
       "      <th>time_id</th>\n",
       "      <th>weekday</th>\n",
       "      <th>punctual</th>\n",
       "    </tr>\n",
       "  </thead>\n",
       "  <tbody>\n",
       "    <tr>\n",
       "      <th>0</th>\n",
       "      <td>1</td>\n",
       "      <td>1</td>\n",
       "      <td>8011</td>\n",
       "      <td>2021-09-06</td>\n",
       "      <td>23:58:53</td>\n",
       "      <td>0</td>\n",
       "      <td>23:58:53</td>\n",
       "      <td>12</td>\n",
       "      <td>0</td>\n",
       "      <td>0</td>\n",
       "    </tr>\n",
       "    <tr>\n",
       "      <th>1</th>\n",
       "      <td>1</td>\n",
       "      <td>1</td>\n",
       "      <td>8011</td>\n",
       "      <td>2021-09-06</td>\n",
       "      <td>24:18:53</td>\n",
       "      <td>0</td>\n",
       "      <td>00:18:53</td>\n",
       "      <td>1</td>\n",
       "      <td>0</td>\n",
       "      <td>0</td>\n",
       "    </tr>\n",
       "    <tr>\n",
       "      <th>2</th>\n",
       "      <td>1</td>\n",
       "      <td>1</td>\n",
       "      <td>8011</td>\n",
       "      <td>2021-09-07</td>\n",
       "      <td>05:09:07</td>\n",
       "      <td>1386743</td>\n",
       "      <td>05:09:07</td>\n",
       "      <td>3</td>\n",
       "      <td>1</td>\n",
       "      <td>1</td>\n",
       "    </tr>\n",
       "    <tr>\n",
       "      <th>3</th>\n",
       "      <td>1</td>\n",
       "      <td>1</td>\n",
       "      <td>8011</td>\n",
       "      <td>2021-09-07</td>\n",
       "      <td>05:28:13</td>\n",
       "      <td>240743</td>\n",
       "      <td>05:28:13</td>\n",
       "      <td>3</td>\n",
       "      <td>1</td>\n",
       "      <td>1</td>\n",
       "    </tr>\n",
       "    <tr>\n",
       "      <th>4</th>\n",
       "      <td>1</td>\n",
       "      <td>1</td>\n",
       "      <td>8011</td>\n",
       "      <td>2021-09-07</td>\n",
       "      <td>05:32:27</td>\n",
       "      <td>0</td>\n",
       "      <td>05:32:27</td>\n",
       "      <td>3</td>\n",
       "      <td>1</td>\n",
       "      <td>0</td>\n",
       "    </tr>\n",
       "  </tbody>\n",
       "</table>\n",
       "</div>"
      ],
      "text/plain": [
       "   route_id  route_type stop_id        date      time    delay  time_new  \\\n",
       "0         1           1    8011  2021-09-06  23:58:53        0  23:58:53   \n",
       "1         1           1    8011  2021-09-06  24:18:53        0  00:18:53   \n",
       "2         1           1    8011  2021-09-07  05:09:07  1386743  05:09:07   \n",
       "3         1           1    8011  2021-09-07  05:28:13   240743  05:28:13   \n",
       "4         1           1    8011  2021-09-07  05:32:27        0  05:32:27   \n",
       "\n",
       "   time_id  weekday  punctual  \n",
       "0       12        0         0  \n",
       "1        1        0         0  \n",
       "2        3        1         1  \n",
       "3        3        1         1  \n",
       "4        3        1         0  "
      ]
     },
     "execution_count": 69,
     "metadata": {},
     "output_type": "execute_result"
    }
   ],
   "source": [
    "#dataset for transformation\n",
    "df_transform = df_db\n",
    "#data preparation \n",
    "# get time from string to date time and deal times greater 24:00\n",
    "df_transform['time_new'] = df_transform['time'].apply(getTime)\n",
    "#create timegroups of 2 hours in which entries will be grouped\n",
    "time_ids = []\n",
    "\n",
    "for ind,row in df_transform.iterrows():\n",
    "    time_id = getTimeGroup(row['time_new'])\n",
    "    time_ids.append(time_id)\n",
    "    \n",
    "df_transform['time_id'] = time_ids\n",
    "\n",
    "#add weekday (0=monday,1=tuesday,..)\n",
    "df_transform['weekday']  = df_transform.apply(lambda x: x.date.weekday(), axis=1)\n",
    "\n",
    "#create target variable punctual 0=puctual 1=not punctual\n",
    "df_transform['punctual'] = np.where(df_transform['delay']== 0, 0, 1)\n",
    "\n",
    "df_transform.head()"
   ]
  },
  {
   "cell_type": "code",
   "execution_count": 70,
   "metadata": {},
   "outputs": [
    {
     "data": {
      "text/html": [
       "<div>\n",
       "<style scoped>\n",
       "    .dataframe tbody tr th:only-of-type {\n",
       "        vertical-align: middle;\n",
       "    }\n",
       "\n",
       "    .dataframe tbody tr th {\n",
       "        vertical-align: top;\n",
       "    }\n",
       "\n",
       "    .dataframe thead th {\n",
       "        text-align: right;\n",
       "    }\n",
       "</style>\n",
       "<table border=\"1\" class=\"dataframe\">\n",
       "  <thead>\n",
       "    <tr style=\"text-align: right;\">\n",
       "      <th></th>\n",
       "      <th>route_id</th>\n",
       "      <th>route_type</th>\n",
       "      <th>stop_key</th>\n",
       "      <th>date</th>\n",
       "      <th>time_id</th>\n",
       "      <th>weekday</th>\n",
       "      <th>punctual</th>\n",
       "    </tr>\n",
       "  </thead>\n",
       "  <tbody>\n",
       "    <tr>\n",
       "      <th>0</th>\n",
       "      <td>1</td>\n",
       "      <td>1</td>\n",
       "      <td>1</td>\n",
       "      <td>2021-09-06</td>\n",
       "      <td>12</td>\n",
       "      <td>0</td>\n",
       "      <td>0</td>\n",
       "    </tr>\n",
       "    <tr>\n",
       "      <th>1</th>\n",
       "      <td>1</td>\n",
       "      <td>1</td>\n",
       "      <td>1</td>\n",
       "      <td>2021-09-06</td>\n",
       "      <td>1</td>\n",
       "      <td>0</td>\n",
       "      <td>0</td>\n",
       "    </tr>\n",
       "    <tr>\n",
       "      <th>2</th>\n",
       "      <td>1</td>\n",
       "      <td>1</td>\n",
       "      <td>1</td>\n",
       "      <td>2021-09-07</td>\n",
       "      <td>3</td>\n",
       "      <td>1</td>\n",
       "      <td>1</td>\n",
       "    </tr>\n",
       "    <tr>\n",
       "      <th>3</th>\n",
       "      <td>1</td>\n",
       "      <td>1</td>\n",
       "      <td>1</td>\n",
       "      <td>2021-09-07</td>\n",
       "      <td>3</td>\n",
       "      <td>1</td>\n",
       "      <td>1</td>\n",
       "    </tr>\n",
       "    <tr>\n",
       "      <th>4</th>\n",
       "      <td>1</td>\n",
       "      <td>1</td>\n",
       "      <td>1</td>\n",
       "      <td>2021-09-07</td>\n",
       "      <td>3</td>\n",
       "      <td>1</td>\n",
       "      <td>0</td>\n",
       "    </tr>\n",
       "  </tbody>\n",
       "</table>\n",
       "</div>"
      ],
      "text/plain": [
       "   route_id  route_type  stop_key        date  time_id  weekday  punctual\n",
       "0         1           1         1  2021-09-06       12        0         0\n",
       "1         1           1         1  2021-09-06        1        0         0\n",
       "2         1           1         1  2021-09-07        3        1         1\n",
       "3         1           1         1  2021-09-07        3        1         1\n",
       "4         1           1         1  2021-09-07        3        1         0"
      ]
     },
     "execution_count": 70,
     "metadata": {},
     "output_type": "execute_result"
    }
   ],
   "source": [
    "#give stops an id \n",
    "stops = df_transform['stop_id'].unique()\n",
    "df_stops = create_dfStop(stops)\n",
    "\n",
    "df_transform_new = df_transform.merge(df_stops, how='inner', on='stop_id')\n",
    "df_transform_new = df_transform_new[['route_id','route_type','stop_key','date','time_id','weekday','punctual']]\n",
    "df_transform_new.head()\n",
    "#finished with preprocessing"
   ]
  },
  {
   "cell_type": "code",
   "execution_count": 71,
   "metadata": {},
   "outputs": [],
   "source": [
    "#Start with mutual information \n",
    "# retrieve numpy array\n",
    "dataset = df_transform_new.values\n",
    "X = dataset[:, :-1]\n",
    "y = dataset[:,-1]"
   ]
  },
  {
   "cell_type": "code",
   "execution_count": 72,
   "metadata": {},
   "outputs": [],
   "source": [
    "#Start with mutual information \n",
    "# retrieve numpy array\n",
    "dataset = df_transform_new.values\n",
    "X = dataset[:, :-1]\n",
    "y = dataset[:,-1]\n",
    "# split into train and test sets\n",
    "X_train, X_test, y_train, y_test = train_test_split(X, y, test_size=0.33, random_state=1)\n",
    "# prepare input data\n",
    "X_train_enc, X_test_enc = prepare_inputs(X,X_train, X_test)\n",
    "# prepare output data\n",
    "y_train_enc, y_test_enc = prepare_targets(y,y_train, y_test)"
   ]
  },
  {
   "cell_type": "code",
   "execution_count": 73,
   "metadata": {},
   "outputs": [],
   "source": [
    "# feature selection perform 50 times\n",
    "scores=[]\n",
    "for j in range(50):\n",
    "    X_train_fs, X_test_fs, fs = select_features(X_train_enc, y_train_enc, X_test_enc)\n",
    "    # what are scores for the features\n",
    "    scores.append(fs.scores_)\n",
    "    #for i in range(len(fs.scores_)):\n",
    "    #    print('Feature %d: %f' % (i, fs.scores_[i]))"
   ]
  },
  {
   "cell_type": "code",
   "execution_count": 74,
   "metadata": {},
   "outputs": [
    {
     "data": {
      "text/plain": [
       "array([0.01204507, 0.02866742, 0.0492061 , 0.00472652, 0.00718978,\n",
       "       0.00804231])"
      ]
     },
     "execution_count": 74,
     "metadata": {},
     "output_type": "execute_result"
    }
   ],
   "source": [
    "#average the results of thw 50 runs\n",
    "results = np.empty(len(scores[1])) \n",
    "feature = []\n",
    "\n",
    "for i in range(len(scores[1])):\n",
    "    for j in range(len(scores)):\n",
    "        feature.append(scores[j][i])\n",
    "        \n",
    "        \n",
    "    avg = sum(feature) / len(feature)\n",
    "    results[i] = avg\n",
    "    feature = []\n",
    "    \n",
    "results"
   ]
  },
  {
   "cell_type": "code",
   "execution_count": 75,
   "metadata": {},
   "outputs": [
    {
     "data": {
      "image/png": "[encoded data removed]",
      "text/plain": [
       "<Figure size 432x288 with 1 Axes>"
      ]
     },
     "metadata": {
      "needs_background": "light"
     },
     "output_type": "display_data"
    }
   ],
   "source": [
    "# plot the scores\n",
    "pyplot.bar([i for i in range(len(results))], results)\n",
    "pyplot.show()"
   ]
  },
  {
   "cell_type": "code",
   "execution_count": 57,
   "metadata": {},
   "outputs": [
    {
     "data": {
      "text/plain": [
       "range(0, 6)"
      ]
     },
     "execution_count": 57,
     "metadata": {},
     "output_type": "execute_result"
    }
   ],
   "source": []
  },
  {
   "cell_type": "code",
   "execution_count": 58,
   "metadata": {},
   "outputs": [
    {
     "data": {
      "text/plain": [
       "6"
      ]
     },
     "execution_count": 58,
     "metadata": {},
     "output_type": "execute_result"
    }
   ],
   "source": []
  },
  {
   "cell_type": "code",
   "execution_count": 61,
   "metadata": {},
   "outputs": [],
   "source": []
  },
  {
   "cell_type": "code",
   "execution_count": null,
   "metadata": {},
   "outputs": [],
   "source": []
  }
 ],
 "metadata": {
  "kernelspec": {
   "display_name": "Python 3",
   "language": "python",
   "name": "python3"
  },
  "language_info": {
   "codemirror_mode": {
    "name": "ipython",
    "version": 3
   },
   "file_extension": ".py",
   "mimetype": "text/x-python",
   "name": "python",
   "nbconvert_exporter": "python",
   "pygments_lexer": "ipython3",
   "version": "3.7.6"
  }
 },
 "nbformat": 4,
 "nbformat_minor": 4
}
